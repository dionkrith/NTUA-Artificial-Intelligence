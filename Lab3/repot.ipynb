{
 "cells": [
  {
   "cell_type": "markdown",
   "metadata": {},
   "source": [
    "Η παρακάτω αναφορά έγινε με την επιμέλεια των φοιτητών Κριθαρούλα Αναστασίας με αριθμό μητρώου 03117073 και Κριθαρούλα Διονύση με αριθμό μητρώου 03117875."
   ]
  },
  {
   "cell_type": "markdown",
   "metadata": {
    "id": "heT7siZWZjQD"
   },
   "source": [
    "# Τεχνητή Νοημοσύνη: Εργαστηριακή Άσκηση 3 \n",
    "Στην άσκηση αυτή θα υλοποιηθούν διάφοροι (σχετικά απλοί) αλγόριθμοι μηχανικής μάθησης για την αναγνώριση ψηφίων από εικόνα στο dataset MNIST. Συγκεκριμένα, θα δίνονται δύο σύνολα δεδομένων $$Ζ_{train}=\\{(x_1,y_1),\\dots,(x_n,y_n)\\}$$ $$Z_{test} = \\{(x_j,y_j),\\dots{,(x_k,y_k)}\\}$$ όπου κάθε $x_i\\in{\\mathbb{R}^p}$ είναι ένα διάνυσμα με τα pixels της κάθε εικόνας και $y_i$ είναι η ετικέτα της εικόνας - ένας ακέραιος στο $[0,9]$. Σε κάθε περίπτωση καλείστε να σχεδιάσετε έναν ταξινομητή, δηλαδή μια απεικόνιση $$f:\\mathbb{R}^p\\rightarrow{[0,9]}$$\n",
    "\n",
    "## 1ο Μέρος: Αξιολόγηση\n",
    "Στο πρώτο μέρος της άσκησης θα υλοποιηθούν συναρτήσεις που θα χρησιμοποιηθούν για την αξιολόγηση των ταξινομητών που θα υλοποιηθούν στα επόμενα μέρη.\n",
    "\n",
    "## 2ο Μέρος: ΚΝΝ\n",
    "Στο δεύτερο μέρος της άσκησης θα υλοποιήσετε τον αλγόριθμο KNN για ταξινόμηση. Υπενθυμίζεται από τις διαφάνειες το πλάνο σχεδιασμού για τον ταξινομητή k κοντινότερων γειτόνων:\n",
    "- Αποθηκεύουμε όλα τα δεδομένα ($Z_{train}$) στη μνήμη\n",
    "  - Τα δεδομένα μπορούν αποθηκευτούν σε έναν πίνακα $n\\times{p}$ με χρήση του numpy\n",
    "- Συγκρίνουμε την είσοδο με τα δεδομένα και βρίσκουμε τα k κοντινότερα ($k<n$) με βάση κάποια απόσταση.\n",
    "  - Όταν μας δίνεται μια \"φρέσκια\" εικόνα ως διάνυσμα από pixels $x_i$ χρειαζόμαστε μια συνάρτηση που να υπολογίζει την απόσταση $d(x_i,x_j)$, όπου $x_j$ είναι το διάνυσμα που αντιστιχεί στα pixels μιας εικόνας από τα δεδομένα εκπαίδευσης. Θα πειραματιστείτε με την ευκλείδια απόσταση και την απόσταση συνημιτόνου. Στη συνέχεια ταξινομούνται τα δεδομένα εκπαίδευσης ως προς την απόστασή τους από το $x_i$ και επιλέγονται τα $k$ κοντινότερα\n",
    "- Δίνουμε στην έξοδο την κλάση στην οποία ανήκει η πλειοψηφία των k κοντινότερων δεδομένων.\n",
    "\n",
    "Αφού κατασκευαστεί ο ταξινομητής θα αξιολογήσετε την επίδοσή του στις 100 πρώτες εικόνες του $Z_{test}$ για κάποιες τιμές του k που θα επιλέξετε εσείς, ξεκινώντας από $k=1$.\n",
    "\n",
    "Στην πράξη πολύ σπάνια θα χρειαστεί να υλοποιήσετε έναν αλγόριθμο μηχανικής μάθησης από το μηδέν, αφού υπάρχουν έτοιμες υλοποιήσεις, π.χ. σε πακέτα της python, οι οποίες είναι βελτιστοποιημένες και εύχρηστες. Το τελευταίο ζητούμενο  στο 1ο μέρος είναι να επαναλάβετε το παραπάνω πείραμα με την έτοιμη υλοποίηση του KNN που παρέχει η βιβλιοθήκη sklearn. Καλείστε να συγκρίνετε τα αποτελέσματα και τους χρόνους εκτέλεσης.\n",
    "\n",
    "## 3ο Μέρος: Naive Bayes\n",
    "Στο τρίτο μέρος της άσκησης θα υλοποιήσετε τον αλγόριθμο Naive Bayes. Ας θυμηθούμε από τις διαφάνειες:\n",
    "\n",
    "**Υποθέσεις:**\n",
    "- Τα χαρακτηριστικά είναι boolean, δηλαδή παίρνουν δύο τιμές\n",
    "  - Για το συγκεκριμένο πρόβλημα μπορούμε να στρογγυλοποιήσουμε τις τιμές των pixels από το $[0.0,1.0]\\rightarrow{\\{0,1\\}}$\n",
    "- Η πιθανότητα ένα στοιχείο με χαρακτηριστικά x να ανήκει στην κλάση i δίνεται από τον τύπο:\n",
    "$$p(i|x)=\\frac{p(i)\\cdot{\\prod_{k=1}^p}p(x^{(k)}|i)}{\\sum_{j=1}^pp(x^{(k)}|j)}$$\n",
    "- Για να ταξινομήσουμε ένα διάνυσμα χαρακτηρστικών x σε μια κλάση i επιλέγουμε την κλάση που μεγιστοποιεί την παραπάνω πιθανότητα\n",
    "  - Μπορούμε για τη σύγκριση να αγνοήσουμε τον παρονομαστή, αφού για όλες τις κλάσεις θα είναι ίδιος\n",
    "\n",
    "## 4ο Μέρος: Perceptron\n",
    "\n",
    "Στο τέταρτο μέρος της άσκησης θα κατασκευάσετε ένα πολυεπίπεδο νευρωνικό δίκτυο. Ο ταξινομητής αυτός θα εκπαιδευτεί στο να ταξινομεί τις εικόνες του mnist σε μια από τις 10 διαφορετικές κλάσεις (από 0 μέχρι 9). Αρχικά θα υλοποιήσετε το μοντέλο αυτό χρησιμοποιώντας αποκλειστικά την βιβλιοθήκη numpy ενώ στην συνέχεια θα χρησιμοποιήσετε μια έτοιμη κλάση για την κατασκευή του ίδιου μοντέλου.  \n",
    "\n",
    "Ας θυμηθούμε από τις διαφάνειες: \n",
    "\n",
    "Κάθε MLP αποτελείται από επίπεδα όπου το κάθε ένα από αυτά χωρίζεται στα παρακάτω μέρη: \n",
    "\n",
    "$$ z(x) = w^Τx + b $$ \n",
    "$$ f(x) = a(z(x))$$ \n",
    "\n",
    "όπου $w$, $b$ είναι τα βάρη του επιπέδου.  Η έξοδος z(x)είναι η απόκριση κάθε νευρώνα πριν την συνάρτηση ενεργοποίησης ενώ η f(x) μετά.  Κάθε επίπεδο συνδέεται με ένα επόμενο του οποίου η είσοδος του αποτελεί την έξοδο (με την συνάρτηση ενεργοποίησης) του προηγούμενου. \n",
    "\n",
    "Στο μέρος αυτό καλείστε να συμπληρώσετε σε ορισμένα σημεία κώδικα ώστε να επιτυγχάνεται αυτή η λειτουργικότητα. Στην συνέχεια θα υλοποιήσετε το ίδιο ακριβώς μοντέλο χρησιμοποιώντας όμως μια έτοιμη βιβλιοθήκη και θα συγκρίνετε τα αποτελέσματά τους (χρόνο, σκορ κ.α.). "
   ]
  },
  {
   "cell_type": "markdown",
   "metadata": {
    "id": "Rvm0mywsZmit"
   },
   "source": [
    "# 1ο Μέρος: Αξιολόγηση\n",
    "\n",
    "Παρακάτω σας δίνεται η κλάση Evaluate, η οποία υπολογίζει διάφορες μετρικές στη μέθοδο get_metrics, εντοπίζει αντικείμενα που ταξινομήθηκαν λάθος και τα εμφανίζει (μέθοδος get_sample_of_wrong) και υπολογίζει και τον πίνακα σύγχυσης (confusion matrix) όπου οπτικοποιούνται ανά κατηγορία οι προβλέψεις του ταξινομητή.\n",
    "\n",
    "Για το μέρος αυτό καλείστε να υλοποιήσετε στη μέθοδο my_accuracy τη μετρική accuracy, η οποία ορίζεται ως:\n",
    "$$accuracy = \\frac{\\#σωστών\\_προβλέψεων}{\\#δεδομένα}$$\n",
    "\n"
   ]
  },
  {
   "cell_type": "code",
   "execution_count": 1,
   "metadata": {
    "id": "WlTj48uFZhyJ"
   },
   "outputs": [],
   "source": [
    "from sklearn.metrics import confusion_matrix, f1_score, precision_score, recall_score\n",
    "from matplotlib import pyplot as plt\n",
    "import numpy as np\n",
    "import random\n",
    "\n",
    "class Evaluate:\n",
    "    def __init__(self,y_true,y_pred,x):\n",
    "        self.y_true = y_true\n",
    "        self.y_pred = y_pred\n",
    "        self.x = x\n",
    "\n",
    "    def my_accuracy(self):\n",
    "        y_true = self.y_true\n",
    "        y_pred = self.y_pred\n",
    "      \n",
    "        acc = 0\n",
    "        for i in range(len(y_true)):\n",
    "            if y_true[i] == y_pred[i]:\n",
    "                acc = acc + 1\n",
    "                \n",
    "        acc = acc / len(y_true)\n",
    "        \n",
    "        return acc\n",
    "\n",
    "    def get_metrics(self):\n",
    "        precision = precision_score(self.y_true, self.y_pred, average = \"macro\")\n",
    "        recall = recall_score(self.y_true, self.y_pred, average = \"macro\")\n",
    "        f1 = f1_score(self.y_true, self.y_pred, average = \"macro\")\n",
    "        results = {\"precision\" : precision, \"recall\": recall, \"f1\": f1,\"accuracy\":self.my_accuracy()}\n",
    "        return results   \n",
    "    \n",
    "    def confusion_matrix(self):\n",
    "        cm = confusion_matrix(self.y_true, self.y_pred)\n",
    "        return cm \n",
    "\n",
    "    def get_sample_of_wrong(self, rows = 5, lines = 4):\n",
    "        wrong_indexes = [index for index in range(len(self.y_true)) if self.y_true[index] != self.y_pred[index]]\n",
    "        plt.figure(figsize=(10, 10))\n",
    "\n",
    "        random.shuffle(wrong_indexes)\n",
    "        for i, index in enumerate(wrong_indexes[: rows*lines]):\n",
    "            plt.subplot(rows, lines, i + 1)\n",
    "            image = self.x[index]\n",
    "            plt.imshow(image.reshape((28, 28)))\n",
    "            plt.title(\"Real: {}, Pred: {}\".format(self.y_true[index], self.y_pred[index]))\n",
    "            plt.axis('off')\n",
    "\n",
    "    def get_evaluation_report(self):\n",
    "        metrics = self.get_metrics()\n",
    "        for m in metrics:\n",
    "            print(m+' : '+str(metrics[m]))\n",
    "        cm = self.confusion_matrix()\n",
    "        print(\"Confusion matrix: \")\n",
    "        print(cm)\n",
    "        print(\"Some images with wrong predictions\")\n",
    "        self.get_sample_of_wrong()"
   ]
  },
  {
   "cell_type": "markdown",
   "metadata": {
    "id": "3qcSvLy6ZpzB"
   },
   "source": [
    "Παράδειγμα χρήσης της κλάσης. Κανονικά στο x θα υπάρχουν οι εικόνες από το dataset"
   ]
  },
  {
   "cell_type": "code",
   "execution_count": 2,
   "metadata": {
    "colab": {
     "base_uri": "https://localhost:8080/",
     "height": 306
    },
    "id": "S5hRZ9L1ZoNJ",
    "outputId": "933a5ee5-8781-4d5b-d437-d80ef6132023"
   },
   "outputs": [
    {
     "name": "stdout",
     "output_type": "stream",
     "text": [
      "precision : 0.7000000000000001\n",
      "recall : 0.6944444444444443\n",
      "f1 : 0.6888888888888888\n",
      "accuracy : 0.625\n",
      "Confusion matrix: \n",
      "[[3 1 0]\n",
      " [2 1 0]\n",
      " [0 0 1]]\n",
      "Some images with wrong predictions\n"
     ]
    },
    {
     "data": {
      "image/png": "[encoded data removed]",
      "text/plain": [
       "<Figure size 720x720 with 3 Axes>"
      ]
     },
     "metadata": {
      "needs_background": "light"
     },
     "output_type": "display_data"
    }
   ],
   "source": [
    "y_true = [1,0,2,0,0,1,1,0]\n",
    "y_pred = [0,0,2,0,1,1,0,0]\n",
    "x = np.random.rand(8,28*28)\n",
    "\n",
    "eval = Evaluate(y_true,y_pred,x)\n",
    "eval.get_evaluation_report()"
   ]
  },
  {
   "cell_type": "markdown",
   "metadata": {
    "id": "h9Sex6aEZtt9"
   },
   "source": [
    "# Dataset\n",
    "\n",
    "To MNIST είναι από τα πιο διαδεδομένα σύνολα δεδομένων στη μηχανική μάθηση. Για όσους δουλεύουν στο Google Colab, το κελί που ακολουθεί φορτώνει τα δεδομένα εκπαίδευσης σε έναν πίνακα x_train με τις ετικέτες των δεδομένων στη λίστα y_train, και τα testing δεδομένα αντίστοιχα στα x_test και y_test.\n",
    "\n",
    "\n",
    "Για όσους δεν δουλεύουν στο colab μπορούν να αντικαταστήσουν τις δύο πρώτες γραμμές του κελιού (train_dset = ... και test_dset = ... ) με τον παρακάτω κώδικα:\n",
    "```\n",
    "mnist_dataframe = pd.read_csv(\n",
    "  \"https://download.mlcc.google.com/mledu-datasets/mnist_train_small.csv\",\n",
    "  sep=\",\",\n",
    "  header=None)\n",
    "mnist_dataframe = mnist_dataframe.head(10000)\n",
    "\n",
    "mnist_dataframe = mnist_dataframe.reindex(np.random.permutation(mnist_dataframe.index))\n",
    "train_dset = mnist_dataframe[:7500]\n",
    "test_dset = mnist_dataframe[7500:10000]\n",
    "```"
   ]
  },
  {
   "cell_type": "code",
   "execution_count": 3,
   "metadata": {},
   "outputs": [],
   "source": [
    "import pandas as pd\n",
    "import numpy as np\n",
    "from matplotlib import pyplot as plt\n",
    "\n",
    "train_dset = pd.read_csv('mnist_train_small.csv',header=None)\n",
    "test_dset = pd.read_csv('mnist_test.csv',header=None)\n",
    "## From https://colab.research.google.com/notebooks/mlcc/multi-class_classification_of_handwritten_digits.ipynb#scrollTo=JfFWWvMWDFrR\n",
    "def parse_labels_and_features(dataset):\n",
    "    \"\"\"Extracts labels and features.\n",
    "  \n",
    "    This is a good place to scale or transform the features if needed.\n",
    "  \n",
    "    Args:\n",
    "      dataset: A Pandas `Dataframe`, containing the label on the first column and\n",
    "        monochrome pixel values on the remaining columns, in row major order.\n",
    "    Returns:\n",
    "      A `tuple` `(labels, features)`:\n",
    "        labels: A Pandas `Series`.\n",
    "        features: A Pandas `DataFrame`.\n",
    "    \"\"\"\n",
    "    labels = dataset[0]\n",
    "\n",
    "    # DataFrame.loc index ranges are inclusive at both ends.\n",
    "    features = dataset.loc[:,1:784]\n",
    "    # Scale the data to [0, 1] by dividing out the max value, 255.\n",
    "    features = features / 255\n",
    "\n",
    "    return labels, np.array(features)\n",
    "\n",
    "def show_image(features):\n",
    "    img = features.reshape((28,28))\n",
    "    plt.imshow(img)\n",
    "    plt.show()\n",
    "\n",
    "y_train,x_train = parse_labels_and_features(train_dset)\n",
    "y_test,x_test = parse_labels_and_features(test_dset)"
   ]
  },
  {
   "cell_type": "markdown",
   "metadata": {},
   "source": [
    "<i> <b> Σχόλιο: </b>\n",
    "    \n",
    "Για τη συγκεκριμένη εργασία δουλέψαμε τοπικά στον υπολογιστή μας. Για το σκοπό αυτό στο ίδιο directory με το τρέχον ipynb αρχείο είχαμε τοποθετημένα και τα αρχεία 'mnist_train_small.csv' και 'mnist_test.csv'."
   ]
  },
  {
   "cell_type": "markdown",
   "metadata": {
    "id": "B4MX_WMeZwRu"
   },
   "source": [
    "Ποια είναι η μορφή των δεδομένων για μια εικόνα;"
   ]
  },
  {
   "cell_type": "code",
   "execution_count": 4,
   "metadata": {
    "colab": {
     "base_uri": "https://localhost:8080/"
    },
    "id": "FhDzmllUZvyp",
    "outputId": "bfb0917c-624c-40a3-8d92-8313b8a2de92"
   },
   "outputs": [
    {
     "name": "stdout",
     "output_type": "stream",
     "text": [
      "Shape of an image: (784,)\n",
      "Max value of pixel: 1.0\n"
     ]
    }
   ],
   "source": [
    "print(\"Shape of an image: \"+str(x_train[0].shape))\n",
    "print(\"Max value of pixel: \"+str(np.max(x_train[0])))"
   ]
  },
  {
   "cell_type": "markdown",
   "metadata": {
    "id": "B9B0hgyBZ3Vm"
   },
   "source": [
    "Φορτώνουμε μια τυχαία εικόνα και την εμφανίζουμε, μαζί με την ετικέτα της"
   ]
  },
  {
   "cell_type": "code",
   "execution_count": 5,
   "metadata": {
    "colab": {
     "base_uri": "https://localhost:8080/",
     "height": 283
    },
    "id": "r3eLiC1nZ00c",
    "outputId": "88a7e9f8-d8e3-4f43-af3e-a85f471bb8c6"
   },
   "outputs": [
    {
     "data": {
      "image/png": "[encoded data removed]",
      "text/plain": [
       "<Figure size 432x288 with 1 Axes>"
      ]
     },
     "metadata": {
      "needs_background": "light"
     },
     "output_type": "display_data"
    },
    {
     "name": "stdout",
     "output_type": "stream",
     "text": [
      "Label = 9\n"
     ]
    }
   ],
   "source": [
    "i = np.random.randint(0,x_train.shape[0])\n",
    "show_image(x_train[i])\n",
    "print(\"Label = \" +str(y_train[i]))"
   ]
  },
  {
   "cell_type": "markdown",
   "metadata": {},
   "source": [
    "<i> <b> Σχόλιο: </b>\n",
    "    \n",
    "Παρατηρούμε ότι κάθε εικόνα του train και test set αναπαιστάται από ένα διάνυσμα 784 στοιχείων, όπου κάθε ένα από τα στοιχεία αυτά αντιστοιχεί και σε ένα pixel της που παίρνει τιμές στο διάτημα [0, 1]"
   ]
  },
  {
   "cell_type": "markdown",
   "metadata": {
    "id": "bYMke4uRZ8Ae"
   },
   "source": [
    "# 2o Μέρος: Υλοποίηση KNN\n",
    "\n",
    " Σας δίνεται η κλάση KNN η οποία αρχικοποιείται με ένα σύνολο από δεδομένα x, ετικέτες y και το k για τον αλγόριθμο. Καλείστε να συμπληρώσετε τον κώδικα που λείπει στις μεθόδους distance, get_knn και classify.\n",
    "\n",
    "Η απόσταση συνημιτόνου μεταξύ δύο διανυσμάτων u,v ορίζεται ως: $$d(u,v)= 1 - \\frac{u\\cdot{v}}{||u||_2||v||_2}$$"
   ]
  },
  {
   "cell_type": "code",
   "execution_count": 6,
   "metadata": {
    "id": "EMPfT1jTZ51F"
   },
   "outputs": [],
   "source": [
    "## Simple KNN\n",
    "\n",
    "class KNN:\n",
    "    def __init__(self,x,y,k,distance=\"euclidian\"):\n",
    "        self.x = x\n",
    "        self.y = y\n",
    "        self.k = k\n",
    "        self.distance = distance\n",
    "  \n",
    "  \n",
    "    ## Compute the distance between the two vectors img1 and img2\n",
    "    # hint: use np.linalg.norm for eucledian\n",
    "    # hint: use equation given above for cosine\n",
    "    def get_distance(self,img1,img2):\n",
    "        if self.distance=='euclidian':\n",
    "            \n",
    "            dist = np.linalg.norm(img1 - img2)\n",
    "\n",
    "        elif self.distance=='cosine':\n",
    "            \n",
    "            norm_1 = np.linalg.norm(img1)\n",
    "            norm_2 = np.linalg.norm(img2)\n",
    "            dist = 1 - np.dot(img1, img2) / (norm_1 * norm_2)\n",
    "\n",
    "        return dist\n",
    "\n",
    "\n",
    "    ## Given an image as a vector, returns indexes of k nearest neighbors\n",
    "    def get_knn(self,img):\n",
    "        distances = list()\n",
    "        x = self.x\n",
    "        k = self.k\n",
    "    \n",
    "        for current_img in x:\n",
    "            distances.append(self.get_distance(img, current_img))\n",
    "\n",
    "        # Sort distances, and return the indexes of k first elements\n",
    "        ans_indexes = np.argsort(distances)[:k]\n",
    "\n",
    "        return ans_indexes\n",
    "\n",
    "\n",
    "    ## Given an image as a vector, classify it according to KNN\n",
    "    # hint: we have a list of k labels and want to return the most common one\n",
    "    def classify(self,img):\n",
    "        y = self.y\n",
    "        \n",
    "        nn_labels = [y[i] for i in self.get_knn(img)]\n",
    "\n",
    "        prediction = max(set(nn_labels), key = nn_labels.count)\n",
    "\n",
    "        return prediction\n",
    "    \n",
    "knn = KNN(x_train, y_train, k = 5 , distance='euclidian')    "
   ]
  },
  {
   "cell_type": "markdown",
   "metadata": {
    "id": "B8-o5tn3aH0-"
   },
   "source": [
    "Τώρα που είναι έτοιμος ο ταξινομητής ας δούμε τι προβλέπει σε μεμονομένες εικόνες"
   ]
  },
  {
   "cell_type": "code",
   "execution_count": 7,
   "metadata": {
    "colab": {
     "base_uri": "https://localhost:8080/",
     "height": 302
    },
    "id": "GTj_vqD5Z-Ex",
    "outputId": "fcf9d36e-776a-4aea-a967-88c0bead8f7e"
   },
   "outputs": [
    {
     "name": "stdout",
     "output_type": "stream",
     "text": [
      "Input image: \n"
     ]
    },
    {
     "data": {
      "image/png": "[encoded data removed]",
      "text/plain": [
       "<Figure size 432x288 with 1 Axes>"
      ]
     },
     "metadata": {
      "needs_background": "light"
     },
     "output_type": "display_data"
    },
    {
     "name": "stdout",
     "output_type": "stream",
     "text": [
      "Prediction : 0\n"
     ]
    }
   ],
   "source": [
    "img = x_test[np.random.randint(0,x_test.shape[0])]\n",
    "print(\"Input image: \")\n",
    "show_image(img)\n",
    "print('Prediction : '+str(knn.classify(img)))"
   ]
  },
  {
   "cell_type": "markdown",
   "metadata": {
    "id": "XCiEi1UUaLzE"
   },
   "source": [
    "## Αξιολόγηση του KNN"
   ]
  },
  {
   "cell_type": "markdown",
   "metadata": {},
   "source": [
    "Ο παραπάνω ταξινομητής k νοτινότερων γειτόνων που υλοποιήσαμε, επιλέγει σε ποιά από τις κλάσεις 0 έως 9 θα ενταχθεί μια εικόνα με βάση τις κλάσεις στις οποίες ταξινομούνται οι k κοντινότεροι \"γείτονες\" αυτής. Πιο αναλυτικά, μια εικόνα θα ενταχθεί στην κλάση στην οποία ανήκουν και οι περισσότεροι από τους k γείτονες αυτής. Τους κοντινότερους γείτονες μιας εικόνας (ενός διανύσματος 784 στοιχείων) τους εντοπίζουμε είτε με χρήση της ευκλείδιας απόστασης μεταξύ δύο διανυσμάτων είτε με χρήση της απόστασης συνημιτόνου μεταξύ δύο διανυσμάτων. "
   ]
  },
  {
   "cell_type": "markdown",
   "metadata": {},
   "source": [
    "Θα κατασκευάσουμε και έπειτα θα αξιολογήσουμε ταξινομητές για k = 1, 3, 5 και 10 κοντινότερους γείτονες για τον υπολογισμό των οποίων χρησιμοποιούν τόσο την ευκλείδια απόσταση όσο και την απόσταση συνημιτόνου, τόσο με βάση τις μετρικές όσο και με βάση τη χρόνο εκτέλεσής τους και τηνυπολογιστική τους πολυπλοκότητα. "
   ]
  },
  {
   "cell_type": "markdown",
   "metadata": {},
   "source": [
    "### Ταξινομητής ΚΝΝ με k = 1 κοντινότερο γείτονα"
   ]
  },
  {
   "cell_type": "markdown",
   "metadata": {},
   "source": [
    "- Euclidean Distance"
   ]
  },
  {
   "cell_type": "markdown",
   "metadata": {},
   "source": [
    "Αρχικά, εκπαιδεύουμε τον ταξινομητή ΚΝΝ για έναν κοντινότερο γείτονα, ο οποίος χρησιμοποιεί την ευκλείδια απόσταση και στη συνέχεια, δοκιμάζουμε την επίδοση αυτού πάνω στις 100 πρώτες εικόνες του test set που μας έχει δοθεί. "
   ]
  },
  {
   "cell_type": "code",
   "execution_count": 8,
   "metadata": {},
   "outputs": [
    {
     "name": "stdout",
     "output_type": "stream",
     "text": [
      "Wall time: 46.9 s\n"
     ]
    }
   ],
   "source": [
    "%%time\n",
    "\n",
    "knn_1_euclidean = KNN(x_train, y_train, k = 1 , distance ='euclidian')\n",
    "preds = [knn_1_euclidean.classify(x_test[i]) for i in range(100)]"
   ]
  },
  {
   "cell_type": "code",
   "execution_count": 9,
   "metadata": {
    "id": "tKw0oa1jaJei"
   },
   "outputs": [],
   "source": [
    "labels = [y_test[i] for i in range(100)]"
   ]
  },
  {
   "cell_type": "code",
   "execution_count": 10,
   "metadata": {
    "colab": {
     "base_uri": "https://localhost:8080/",
     "height": 942
    },
    "id": "yNVygiKCaNag",
    "outputId": "9a507a75-3c40-4507-8fdd-f0912c4a16a9"
   },
   "outputs": [
    {
     "name": "stdout",
     "output_type": "stream",
     "text": [
      "precision : 0.9866666666666667\n",
      "recall : 0.9784090909090908\n",
      "f1 : 0.9816748768472907\n",
      "accuracy : 0.98\n",
      "Confusion matrix: \n",
      "[[ 8  0  0  0  0  0  0  0  0  0]\n",
      " [ 0 14  0  0  0  0  0  0  0  0]\n",
      " [ 0  1  7  0  0  0  0  0  0  0]\n",
      " [ 0  0  0 11  0  0  0  0  0  0]\n",
      " [ 0  0  0  0 14  0  0  0  0  0]\n",
      " [ 0  0  0  0  0  7  0  0  0  0]\n",
      " [ 0  0  0  0  0  0 10  0  0  0]\n",
      " [ 0  0  0  0  0  0  0 15  0  0]\n",
      " [ 0  0  0  0  0  0  0  0  2  0]\n",
      " [ 0  0  0  0  1  0  0  0  0 10]]\n",
      "Some images with wrong predictions\n"
     ]
    },
    {
     "data": {
      "image/png": "[encoded data removed]",
      "text/plain": [
       "<Figure size 720x720 with 2 Axes>"
      ]
     },
     "metadata": {
      "needs_background": "light"
     },
     "output_type": "display_data"
    }
   ],
   "source": [
    "eval = Evaluate(labels,preds,x_test[:100])\n",
    "eval.get_evaluation_report()"
   ]
  },
  {
   "cell_type": "markdown",
   "metadata": {},
   "source": [
    "- Cosine Distance"
   ]
  },
  {
   "cell_type": "code",
   "execution_count": 11,
   "metadata": {},
   "outputs": [
    {
     "name": "stdout",
     "output_type": "stream",
     "text": [
      "Wall time: 1min 16s\n"
     ]
    }
   ],
   "source": [
    "%%time\n",
    "\n",
    "knn_1_cosine = KNN(x_train, y_train, k = 1 , distance='cosine')\n",
    "preds = [knn_1_cosine.classify(x_test[i]) for i in range(100)]"
   ]
  },
  {
   "cell_type": "code",
   "execution_count": 12,
   "metadata": {},
   "outputs": [],
   "source": [
    "labels = [y_test[i] for i in range(100)]"
   ]
  },
  {
   "cell_type": "code",
   "execution_count": 13,
   "metadata": {},
   "outputs": [
    {
     "name": "stdout",
     "output_type": "stream",
     "text": [
      "precision : 1.0\n",
      "recall : 1.0\n",
      "f1 : 1.0\n",
      "accuracy : 1.0\n",
      "Confusion matrix: \n",
      "[[ 8  0  0  0  0  0  0  0  0  0]\n",
      " [ 0 14  0  0  0  0  0  0  0  0]\n",
      " [ 0  0  8  0  0  0  0  0  0  0]\n",
      " [ 0  0  0 11  0  0  0  0  0  0]\n",
      " [ 0  0  0  0 14  0  0  0  0  0]\n",
      " [ 0  0  0  0  0  7  0  0  0  0]\n",
      " [ 0  0  0  0  0  0 10  0  0  0]\n",
      " [ 0  0  0  0  0  0  0 15  0  0]\n",
      " [ 0  0  0  0  0  0  0  0  2  0]\n",
      " [ 0  0  0  0  0  0  0  0  0 11]]\n",
      "Some images with wrong predictions\n"
     ]
    },
    {
     "data": {
      "text/plain": [
       "<Figure size 720x720 with 0 Axes>"
      ]
     },
     "metadata": {},
     "output_type": "display_data"
    }
   ],
   "source": [
    "eval = Evaluate(labels,preds,x_test[:100])\n",
    "eval.get_evaluation_report()"
   ]
  },
  {
   "cell_type": "markdown",
   "metadata": {},
   "source": [
    "### Ταξινομητής KNN με k = 3 κοντινότερους γείτονες"
   ]
  },
  {
   "cell_type": "markdown",
   "metadata": {},
   "source": [
    "- Euclidean Distance"
   ]
  },
  {
   "cell_type": "code",
   "execution_count": 14,
   "metadata": {},
   "outputs": [
    {
     "name": "stdout",
     "output_type": "stream",
     "text": [
      "Wall time: 42.8 s\n"
     ]
    }
   ],
   "source": [
    "%%time\n",
    "\n",
    "knn_3_euclidean = KNN(x_train, y_train, k = 3 , distance='euclidian')\n",
    "preds = [knn_3_euclidean.classify(x_test[i]) for i in range(100)]"
   ]
  },
  {
   "cell_type": "code",
   "execution_count": 15,
   "metadata": {},
   "outputs": [],
   "source": [
    "labels = [y_test[i] for i in range(100)]"
   ]
  },
  {
   "cell_type": "code",
   "execution_count": 16,
   "metadata": {},
   "outputs": [
    {
     "name": "stdout",
     "output_type": "stream",
     "text": [
      "precision : 0.9775162337662338\n",
      "recall : 0.9712662337662337\n",
      "f1 : 0.9738737606479541\n",
      "accuracy : 0.97\n",
      "Confusion matrix: \n",
      "[[ 8  0  0  0  0  0  0  0  0  0]\n",
      " [ 0 14  0  0  0  0  0  0  0  0]\n",
      " [ 0  0  7  0  0  0  0  1  0  0]\n",
      " [ 0  0  0 11  0  0  0  0  0  0]\n",
      " [ 0  0  0  0 13  0  0  0  0  1]\n",
      " [ 0  0  0  0  0  7  0  0  0  0]\n",
      " [ 0  0  0  0  0  0 10  0  0  0]\n",
      " [ 0  0  0  0  0  0  0 15  0  0]\n",
      " [ 0  0  0  0  0  0  0  0  2  0]\n",
      " [ 0  0  0  0  1  0  0  0  0 10]]\n",
      "Some images with wrong predictions\n"
     ]
    },
    {
     "data": {
      "image/png": "[encoded data removed]",
      "text/plain": [
       "<Figure size 720x720 with 3 Axes>"
      ]
     },
     "metadata": {
      "needs_background": "light"
     },
     "output_type": "display_data"
    }
   ],
   "source": [
    "eval = Evaluate(labels,preds,x_test[:100])\n",
    "eval.get_evaluation_report()"
   ]
  },
  {
   "cell_type": "markdown",
   "metadata": {},
   "source": [
    "- Cosine Distance"
   ]
  },
  {
   "cell_type": "code",
   "execution_count": 17,
   "metadata": {},
   "outputs": [
    {
     "name": "stdout",
     "output_type": "stream",
     "text": [
      "Wall time: 1min 24s\n"
     ]
    }
   ],
   "source": [
    "%%time\n",
    "\n",
    "knn_3_cosine = KNN(x_train, y_train, k = 3 , distance='cosine')\n",
    "preds = [knn_3_cosine.classify(x_test[i]) for i in range(100)]"
   ]
  },
  {
   "cell_type": "code",
   "execution_count": 18,
   "metadata": {},
   "outputs": [],
   "source": [
    "labels = [y_test[i] for i in range(100)]"
   ]
  },
  {
   "cell_type": "code",
   "execution_count": 19,
   "metadata": {},
   "outputs": [
    {
     "name": "stdout",
     "output_type": "stream",
     "text": [
      "precision : 0.9888888888888889\n",
      "recall : 0.9928571428571429\n",
      "f1 : 0.9904139433551198\n",
      "accuracy : 0.99\n",
      "Confusion matrix: \n",
      "[[ 8  0  0  0  0  0  0  0  0  0]\n",
      " [ 0 14  0  0  0  0  0  0  0  0]\n",
      " [ 0  0  8  0  0  0  0  0  0  0]\n",
      " [ 0  0  0 11  0  0  0  0  0  0]\n",
      " [ 1  0  0  0 13  0  0  0  0  0]\n",
      " [ 0  0  0  0  0  7  0  0  0  0]\n",
      " [ 0  0  0  0  0  0 10  0  0  0]\n",
      " [ 0  0  0  0  0  0  0 15  0  0]\n",
      " [ 0  0  0  0  0  0  0  0  2  0]\n",
      " [ 0  0  0  0  0  0  0  0  0 11]]\n",
      "Some images with wrong predictions\n"
     ]
    },
    {
     "data": {
      "image/png": "[encoded data removed]",
      "text/plain": [
       "<Figure size 720x720 with 1 Axes>"
      ]
     },
     "metadata": {
      "needs_background": "light"
     },
     "output_type": "display_data"
    }
   ],
   "source": [
    "eval = Evaluate(labels,preds,x_test[:100])\n",
    "eval.get_evaluation_report()"
   ]
  },
  {
   "cell_type": "markdown",
   "metadata": {},
   "source": [
    "### Ταξινομητής ΚΝΝ με k = 5 κοντινότερους γείτονες"
   ]
  },
  {
   "cell_type": "markdown",
   "metadata": {},
   "source": [
    "- Euclidean Distance"
   ]
  },
  {
   "cell_type": "code",
   "execution_count": 20,
   "metadata": {},
   "outputs": [
    {
     "name": "stdout",
     "output_type": "stream",
     "text": [
      "Wall time: 47.3 s\n"
     ]
    }
   ],
   "source": [
    "%%time\n",
    "\n",
    "knn_5_euclidean = KNN(x_train, y_train, k = 5 , distance='euclidian')\n",
    "preds = [knn_5_euclidean.classify(x_test[i]) for i in range(100)]"
   ]
  },
  {
   "cell_type": "code",
   "execution_count": 21,
   "metadata": {},
   "outputs": [],
   "source": [
    "labels = [y_test[i] for i in range(100)]"
   ]
  },
  {
   "cell_type": "code",
   "execution_count": 22,
   "metadata": {},
   "outputs": [
    {
     "name": "stdout",
     "output_type": "stream",
     "text": [
      "precision : 0.9749019607843138\n",
      "recall : 0.9568181818181818\n",
      "f1 : 0.962567733990148\n",
      "accuracy : 0.96\n",
      "Confusion matrix: \n",
      "[[ 8  0  0  0  0  0  0  0  0  0]\n",
      " [ 0 14  0  0  0  0  0  0  0  0]\n",
      " [ 0  1  6  0  0  0  0  1  0  0]\n",
      " [ 0  0  0 11  0  0  0  0  0  0]\n",
      " [ 0  0  0  0 14  0  0  0  0  0]\n",
      " [ 0  0  0  0  0  7  0  0  0  0]\n",
      " [ 0  0  0  0  0  0 10  0  0  0]\n",
      " [ 0  0  0  0  0  0  0 15  0  0]\n",
      " [ 0  0  0  0  0  0  0  0  2  0]\n",
      " [ 0  0  0  0  1  0  0  1  0  9]]\n",
      "Some images with wrong predictions\n"
     ]
    },
    {
     "data": {
      "image/png": "[encoded data removed]",
      "text/plain": [
       "<Figure size 720x720 with 4 Axes>"
      ]
     },
     "metadata": {
      "needs_background": "light"
     },
     "output_type": "display_data"
    }
   ],
   "source": [
    "eval = Evaluate(labels,preds,x_test[:100])\n",
    "eval.get_evaluation_report()"
   ]
  },
  {
   "cell_type": "markdown",
   "metadata": {},
   "source": [
    "- Cosine Distance"
   ]
  },
  {
   "cell_type": "code",
   "execution_count": 23,
   "metadata": {},
   "outputs": [
    {
     "name": "stdout",
     "output_type": "stream",
     "text": [
      "Wall time: 1min 23s\n"
     ]
    }
   ],
   "source": [
    "%%time\n",
    "\n",
    "knn_5_cosine = KNN(x_train, y_train, k = 5 , distance='cosine')\n",
    "preds = [knn_5_cosine.classify(x_test[i]) for i in range(100)]"
   ]
  },
  {
   "cell_type": "code",
   "execution_count": 24,
   "metadata": {},
   "outputs": [],
   "source": [
    "labels = [y_test[i] for i in range(100)]"
   ]
  },
  {
   "cell_type": "code",
   "execution_count": 25,
   "metadata": {},
   "outputs": [
    {
     "name": "stdout",
     "output_type": "stream",
     "text": [
      "precision : 0.9888888888888889\n",
      "recall : 0.9928571428571429\n",
      "f1 : 0.9904139433551198\n",
      "accuracy : 0.99\n",
      "Confusion matrix: \n",
      "[[ 8  0  0  0  0  0  0  0  0  0]\n",
      " [ 0 14  0  0  0  0  0  0  0  0]\n",
      " [ 0  0  8  0  0  0  0  0  0  0]\n",
      " [ 0  0  0 11  0  0  0  0  0  0]\n",
      " [ 1  0  0  0 13  0  0  0  0  0]\n",
      " [ 0  0  0  0  0  7  0  0  0  0]\n",
      " [ 0  0  0  0  0  0 10  0  0  0]\n",
      " [ 0  0  0  0  0  0  0 15  0  0]\n",
      " [ 0  0  0  0  0  0  0  0  2  0]\n",
      " [ 0  0  0  0  0  0  0  0  0 11]]\n",
      "Some images with wrong predictions\n"
     ]
    },
    {
     "data": {
      "image/png": "[encoded data removed]",
      "text/plain": [
       "<Figure size 720x720 with 1 Axes>"
      ]
     },
     "metadata": {
      "needs_background": "light"
     },
     "output_type": "display_data"
    }
   ],
   "source": [
    "eval = Evaluate(labels,preds,x_test[:100])\n",
    "eval.get_evaluation_report()"
   ]
  },
  {
   "cell_type": "markdown",
   "metadata": {
    "id": "V7LP247HaU6m"
   },
   "source": [
    "## Έτοιμος ΚΝΝ classifier\n",
    "\n",
    "Όπως και με τους περισσότερους αλγορίθμους μηχανικής μάθησης, υπάρχουν έτοιμες βελτιστοποιημένες υλοποιήσεις. Παρακάτω δείχνουμε ένα παράδειγμα χρήσης του ταξινομητή ΚΝΝ που παρέχει η βιβλιοθήκη sklearn: [documentation](https://scikit-learn.org/stable/modules/generated/sklearn.neighbors.KNeighborsClassifier.html)"
   ]
  },
  {
   "cell_type": "markdown",
   "metadata": {},
   "source": [
    "Ο classifier της βιβλιοθήκης sklearn που χρησιμοποιούμε παρακάτω χρησιμοποιοεί την ευκλείδια απόσταση μεταξύ διανυσμάτων προκειμένου να υπολογίσει την απόσταση των εικόνων (διανυσμάτων) μεταξύ τους."
   ]
  },
  {
   "cell_type": "markdown",
   "metadata": {},
   "source": [
    "#### Έτοιμος ΚΝΝ classifier για k = 1"
   ]
  },
  {
   "cell_type": "code",
   "execution_count": 26,
   "metadata": {},
   "outputs": [],
   "source": [
    "from sklearn.neighbors import KNeighborsClassifier"
   ]
  },
  {
   "cell_type": "code",
   "execution_count": 27,
   "metadata": {
    "colab": {
     "base_uri": "https://localhost:8080/",
     "height": 435
    },
    "id": "Os0WCL-QaOnr",
    "outputId": "c0f40500-e039-4373-da6e-41cefd2f8d55"
   },
   "outputs": [
    {
     "name": "stdout",
     "output_type": "stream",
     "text": [
      "Wall time: 11.6 s\n"
     ]
    }
   ],
   "source": [
    "%%time\n",
    "k = 1\n",
    "knc = KNeighborsClassifier(n_neighbors=k)\n",
    "knc.fit(x_train, y_train)\n",
    "y_pred = knc.predict(x_test[:100])"
   ]
  },
  {
   "cell_type": "code",
   "execution_count": 28,
   "metadata": {},
   "outputs": [
    {
     "name": "stdout",
     "output_type": "stream",
     "text": [
      "precision : 0.9866666666666667\n",
      "recall : 0.9784090909090908\n",
      "f1 : 0.9816748768472907\n",
      "accuracy : 0.98\n",
      "Confusion matrix: \n",
      "[[ 8  0  0  0  0  0  0  0  0  0]\n",
      " [ 0 14  0  0  0  0  0  0  0  0]\n",
      " [ 0  1  7  0  0  0  0  0  0  0]\n",
      " [ 0  0  0 11  0  0  0  0  0  0]\n",
      " [ 0  0  0  0 14  0  0  0  0  0]\n",
      " [ 0  0  0  0  0  7  0  0  0  0]\n",
      " [ 0  0  0  0  0  0 10  0  0  0]\n",
      " [ 0  0  0  0  0  0  0 15  0  0]\n",
      " [ 0  0  0  0  0  0  0  0  2  0]\n",
      " [ 0  0  0  0  1  0  0  0  0 10]]\n",
      "Some images with wrong predictions\n"
     ]
    },
    {
     "data": {
      "image/png": "[encoded data removed]",
      "text/plain": [
       "<Figure size 720x720 with 2 Axes>"
      ]
     },
     "metadata": {
      "needs_background": "light"
     },
     "output_type": "display_data"
    }
   ],
   "source": [
    "eval = Evaluate(y_test[:100],y_pred,x_test[:100])\n",
    "eval.get_evaluation_report()"
   ]
  },
  {
   "cell_type": "markdown",
   "metadata": {},
   "source": [
    "#### Έτοιμος KNN classifier για k = 3"
   ]
  },
  {
   "cell_type": "code",
   "execution_count": 29,
   "metadata": {},
   "outputs": [
    {
     "name": "stdout",
     "output_type": "stream",
     "text": [
      "Wall time: 12.2 s\n"
     ]
    }
   ],
   "source": [
    "%%time\n",
    "k = 3\n",
    "knc = KNeighborsClassifier(n_neighbors=k)\n",
    "knc.fit(x_train, y_train)\n",
    "y_pred = knc.predict(x_test[:100])"
   ]
  },
  {
   "cell_type": "code",
   "execution_count": 30,
   "metadata": {},
   "outputs": [
    {
     "name": "stdout",
     "output_type": "stream",
     "text": [
      "precision : 0.9775162337662338\n",
      "recall : 0.9712662337662337\n",
      "f1 : 0.9738737606479541\n",
      "accuracy : 0.97\n",
      "Confusion matrix: \n",
      "[[ 8  0  0  0  0  0  0  0  0  0]\n",
      " [ 0 14  0  0  0  0  0  0  0  0]\n",
      " [ 0  0  7  0  0  0  0  1  0  0]\n",
      " [ 0  0  0 11  0  0  0  0  0  0]\n",
      " [ 0  0  0  0 13  0  0  0  0  1]\n",
      " [ 0  0  0  0  0  7  0  0  0  0]\n",
      " [ 0  0  0  0  0  0 10  0  0  0]\n",
      " [ 0  0  0  0  0  0  0 15  0  0]\n",
      " [ 0  0  0  0  0  0  0  0  2  0]\n",
      " [ 0  0  0  0  1  0  0  0  0 10]]\n",
      "Some images with wrong predictions\n"
     ]
    },
    {
     "data": {
      "image/png": "[encoded data removed]",
      "text/plain": [
       "<Figure size 720x720 with 3 Axes>"
      ]
     },
     "metadata": {
      "needs_background": "light"
     },
     "output_type": "display_data"
    }
   ],
   "source": [
    "eval = Evaluate(y_test[:100],y_pred,x_test[:100])\n",
    "eval.get_evaluation_report()"
   ]
  },
  {
   "cell_type": "markdown",
   "metadata": {},
   "source": [
    "#### Έτοιμος ΚΝΝ classifier για k = 5"
   ]
  },
  {
   "cell_type": "code",
   "execution_count": 31,
   "metadata": {},
   "outputs": [
    {
     "name": "stdout",
     "output_type": "stream",
     "text": [
      "Wall time: 13.8 s\n"
     ]
    }
   ],
   "source": [
    "%%time\n",
    "k = 5\n",
    "knc = KNeighborsClassifier(n_neighbors=k)\n",
    "knc.fit(x_train, y_train)\n",
    "y_pred = knc.predict(x_test[:100])"
   ]
  },
  {
   "cell_type": "code",
   "execution_count": 32,
   "metadata": {},
   "outputs": [
    {
     "name": "stdout",
     "output_type": "stream",
     "text": [
      "precision : 0.9888888888888889\n",
      "recall : 0.9928571428571429\n",
      "f1 : 0.9904139433551198\n",
      "accuracy : 0.99\n",
      "Confusion matrix: \n",
      "[[ 8  0  0  0  0  0  0  0  0  0]\n",
      " [ 0 14  0  0  0  0  0  0  0  0]\n",
      " [ 0  0  8  0  0  0  0  0  0  0]\n",
      " [ 0  0  0 11  0  0  0  0  0  0]\n",
      " [ 1  0  0  0 13  0  0  0  0  0]\n",
      " [ 0  0  0  0  0  7  0  0  0  0]\n",
      " [ 0  0  0  0  0  0 10  0  0  0]\n",
      " [ 0  0  0  0  0  0  0 15  0  0]\n",
      " [ 0  0  0  0  0  0  0  0  2  0]\n",
      " [ 0  0  0  0  0  0  0  0  0 11]]\n",
      "Some images with wrong predictions\n"
     ]
    },
    {
     "data": {
      "image/png": "[encoded data removed]",
      "text/plain": [
       "<Figure size 720x720 with 1 Axes>"
      ]
     },
     "metadata": {
      "needs_background": "light"
     },
     "output_type": "display_data"
    }
   ],
   "source": [
    "\n",
    "eval = Evaluate(labels,preds,x_test[:100])\n",
    "eval.get_evaluation_report()"
   ]
  },
  {
   "cell_type": "markdown",
   "metadata": {},
   "source": [
    "<b> Παρατήρηση: </b>\n",
    "    \n",
    "Παρατηρούμε ότι ο έτοιμος KNN classifier, ο οποίος και χρησιμοποιεί ως μετρική για τον υπολογισμό των αποστάσεων μεταξύ των εικόνων την ευκλείδια απόσταση, έχει το ίδιο ποσοστό επιτυχίας ταξινομήσεων με τη δική μας υλοποίηση για τον ταξινομητή KNN με χρήση ευκλείδιας απόστασης, για το ίδιο k, όπως και ήταν αναμενόμενο."
   ]
  },
  {
   "cell_type": "markdown",
   "metadata": {},
   "source": [
    "## Σχολιασμος και Σύκγριση υλοποιήσεων"
   ]
  },
  {
   "cell_type": "markdown",
   "metadata": {},
   "source": [
    "### Επίδοση ταξινομητών ως προς το ποσοστό επιτυχίας των ταξινομήσεών τους"
   ]
  },
  {
   "cell_type": "markdown",
   "metadata": {
    "id": "RcUBX2XMaZUd"
   },
   "source": [
    "Παραπάνω υλοποιήσαμε έναν ταξινομητή ΚΝΝ χρησιμοποιώντας k = 1, 3 ή 5 κοντινότερους γείτονες σε συνδυασμό με την ευκλείδια ή την απόσταση συνημιτόνου. Κάθε μια από τις υλοποιήσεις αυτές την τρέχουμε πάνω στο δοθέν test set, όπου και την αξιολογούμε με βάση τις μετρικές pression, recall και accuracy. \n",
    "- Η μετρική <b> precission </b> εκφράζει το λόγο του πλήθους των εικόνων που ταξινομήθηκαν σωστά σε μια κλάση, έστω i, προς το πλήθος των εικόνων που ταξινομήθηκαν σε αυτήν. Οπότε, πρακτικά μια μικρή τιμή στη μετρική precission ισοδυναμεί με αβεβαιότητα στον ταξινομητή μας, ενώ μια μεγαλύτερη προσδίδει μεγαλύτερη ακρίβεια στις επιλογές του, δηλαδή αυξάνει την πιθανότητα μια τυχαία εικόνα που έχει ταξινομηθεί στης κλάση i να αναπαριστά πράγματι τον αριθμό i.\n",
    "- Η μετρική <b> recall </b> εκφράζει το λόγο του πλήθους των εικόνων που ταξινομήθηκαν σωστά σε μια κλάση, έστω i, προς το πλήθος των εικόνων που θα έπρεπε συνολικά να έχουν ταξινoμηθεί σε αυτή.Οπότε, μεγάλη τιμή recall αντιστοιχεί σε μεγάλη πιθανότητα μια εικόνα που αναπαριστά τον αριθμό i να έχει ταξινομηθεί πράγματι στην κλάση i. \n",
    "- Η μετρική <b> f1 </b> αποτελεί έναν μέσο όρο των δύο παραπάνω συναρτήσεων, έτσι ώστε να διατηρείται μια ισορροπία μεταξύ τους.\n",
    "- Η μετρική <b> accuracy </b> εκφράζει το πλήθος των εικόνων που ταξινομήθηκαν σωστά στην αντίστοιχη κλάση τους, προς το συνολικό πλήθος των εικόνων, δείχνει δηλαδή το ποσοστό των επιτυχημένων ταξινμήσεων πάνω στο σύνολο των ταξινομήσεων του εκάστοτε ταξινομητή.\n",
    "Παρατηρούμε λοιπόν, ότι έναν \"καλός\" ταξινομητής θα πρέπει να χαρακτηρίζεται από υψηλές τιμές στις παραπάνω μετρικές."
   ]
  },
  {
   "cell_type": "markdown",
   "metadata": {},
   "source": [
    "Με βάση αυτά παρατηρούμε ότι όλοι οι ταξινομητές που υλοποιήσαμε παραπάνω είναι αρκετά καλοί, καθώς ταξινομούν τις εικόνες σωστάσε ποσοστό πάνω από 96% (accuracy). <b> Καλύτερη υλοποίηση φαίνεται να είναι η υλοποίηση του ταξινομητή ενός κοντινότερου γείτονα που χρησιμοποιεί την απόσταση συνημιτόνου για τον υπολογισμό των αποστάσεων μεταξύ των εικόνων </b>. Ο ταξινομητής αυτός φαίνεται να επιτυγχάνει το απόλυτο ποσοστό επιτυχίας τουλάχιστον στο αρκετά μικρό data set στο οποίο δοκιμάστηκε (100 πρώτες εικόνες του test set)."
   ]
  },
  {
   "cell_type": "markdown",
   "metadata": {},
   "source": [
    "Ας δούμε ωστόσο, λίγο πιο αναλυτικά την επίδραση της τιμής k, όσο και της απόστασης στην επίδοση ενός ΚΝΝ ταξινομητή στο συγκεκριμένο πρόβλημα ταξινόμησης των εικόνων με βάση των αριθμό που αναπαριστούν. "
   ]
  },
  {
   "cell_type": "markdown",
   "metadata": {},
   "source": [
    "- Όσον αφορά το πλήθος των γειτόνων k:\n",
    "\n",
    "Στο συγκεκριμένο πρόβλημα ταξινόμησης και για το συγκεκριμένο data set παρατηρούμε ότι όσο μικρότερος είναι ο αριθμός k των γετόνων που \"συμβουλεύεται\" ο ταξινομητής προκειμένου να \"αποφασίσει\" ποιον αριθμό αναπαριστά η εικόνα ώστε να την ταξινομήσει στην αντίστοιχη κλάση τόσο καλύτερη είναι και η επίδοσή του. Αυτό γιατί η γραφική αναπαράσταση ενός συγκεκριμένου αριθμού δεν επιδέχεται και μεγάλης ανοχής. Σε όλον τον κόσμο η αναπαράσταση των αριθμών είναι η ίδια και οι διαφοροποιήσεις μεταξύ των αναπαραστάσεων του ίδιου αριθμού έγγυνται στο γραφικό χαρακτήρα του εκάστοτε ανθρώπου χωρίς ωστόσο να μπορούν και πάλι να αποκλίνουν πολύ. Λόγω της φύσης του προβλήματος λοιπόν είναι λογικό μια εικόνα που βρίσκεται πολύ κοντά στην εικόνα που ο ταξινομητής καλείται να ταξινομήσει (έχουν φωτισμένα σχεδόν τα ίδια pixel) να ανπαριστά και τον ίδιο αριθμό. Παράλληλα, στη μικρή αυτή τιμή του k για την καλύτερη επίδοση συμβάλλει αρκετά και το γεγονός ότι έχουμε εκπαιδεύσει τους ταξινομητές μας πάνω σε ένα σχετικά μικρό data set, οπότε και δε μπορούμε να βασιστούμε σε μεγάλο αριθμό γειτόνων καθώς αναλογικά με το μέγεθος του data set είναι σαν να \"απομακρυνόμαστε\" αρκετά από τη θέση της εικόνας που θέλουμε να ταξινομήσουμε. Ωστόσο, αυτό δεν ισχύει σε όλα τα προβλήματα ταξινόμησης που καλούμαστε να αντιμετωπίσουμε στην πράξη. Στα περισσότερα πρακτικά προβλήματα είναι αρκετά πιθανό ένα δείγμα στο data set να έχει παρεκλείνει λίγο ή και περισσότερο από το χώρο που πραγματικά βλέπουμε να συγκεντρώνεται η πλειοψηφία των δείγματων που ανήκουν στη ίδια κλάση με αυτό. Το πρόβλημα αυτό ενισχύεται ακόμα περισσότερο εάν οι διαφορετικές κλάσεις στις οποίες καλούμαστε να εκπαιδεύσουμε το ταξινομητή μας \"συνορεύουν\" αρκετά μεταξύ τους. Για το λόγο αυτό γενικά η τιμή του k θα πρέπει να επιλέγεται ως εξής:\n",
    "  - να είναι αρκετά μεγάλο ώστε να ελαχιστοποιεί την πιθανότητα εσφαλμένης ταξινόμησης (ιδίως όταν έχουμε κλάσεις που συνορεύουν)\n",
    "  - αρκετά μικρό (συγκριτικά με το μέγεθος του data set) έτσι ώστε οι γείτονες που θα επιλεχθούν να είναι αρκετά κοντά στο προς ταξινόμηση δείγμα για να δώσουν μια ακριβή εκτίμηση της κλάσης στην οποία αυτό ανήκει.\n",
    "  \n",
    "<b> Πρακτικά, στο συγκεκριμένο πρόβλημα λοιπόν, έχουμε σχετικά ευδιάκριτες κλάσεις που δε συνορεύουν μεταξύ τους (οι αναπαραστάσεις διαφορετικών αριθμών κατά πλειοψηφία διαφέρουν αρκετά μεταξύ τους), ενώ παράλληλα έχουμε και ένα μικρό μέγεθος train set, οπότε και μικρή τιμή του k αποτελεί την καλύτερη επιλογή. </b>   "
   ]
  },
  {
   "cell_type": "markdown",
   "metadata": {},
   "source": [
    "- Όσον αφορά την επιλογή της συνάρτησης που υπολογίζει την απόσταση μεταξύ των εικόνων:"
   ]
  },
  {
   "cell_type": "markdown",
   "metadata": {},
   "source": [
    "Παρατηρούμε ότι <b> η επιλογή της απόστασης συνημιτόνου σε σύγκριση με την ευκλείδια απόσταση επιφέρει μεγαλύτερο ποσοστό επιτυχημένων ταξινομήσεων σε ΚΝΝ ταξινομητές με ίδιο k </b>. Αυτό ίσως οφείλεται στο γεγονός ότι η απόσταση συνημιτόνου δε λαμβάνει υπόψην της το πλάτος των διανυσμάτων, παρά μόνο την γωνία που αυτά τα δύο σχηματίζουν μεταξύ τους. Οπότε, για πράδειγμα στην περίπτωση που έχουμε δύο εικόνες με σχεδόν την ίδια αναπαράσταση που ωστόσο στη μια τα pixel είναι πιο \"έντονα χρωματισμένα\" και στην άλλη πιο αχνά, η ευκλείδια μετρική θα αποδόσει σε αυτές μεγαλύτερη απόσταση συγκριτικά με την απόσταση που θα απέδιδε στις ίδιες ακριβώς εικόνες εάν τα pixel είχαν την ίδια τονικότητα. Αντίθετα, η απόσταση συνημιτονου θα απέδιδε και στις δύο περιπτώσεις την ίδια απόσταση μεταξύ των δύο εικόνων.    "
   ]
  },
  {
   "cell_type": "markdown",
   "metadata": {},
   "source": [
    "### Επίδοση των ταξινομητών ως προς τις χρονικές απαιτήσεις τους"
   ]
  },
  {
   "cell_type": "markdown",
   "metadata": {
    "id": "bc9ySKoRaek-"
   },
   "source": [
    "Παρατηρούμε γενικά ότι <b> η υλοποιήση ο ταξινομητής ΚΝΝ έχει υψηλές χρονικές απαιτήσεις </b>, όχι τόσο κατά την εκπαίδευση του που απλά αποθηκεύει όλο το train set με τις αντίστοιχες ετικέτες αλλά κυρίως όταν εκτελεί την πρόβλεψη του και την ταξινόμηση μιας εικόνας σε μια συγκεκριμένη κλάση. Αυτό γιατί κάθε φορά που καλείται να ταξινομήσει μια εικόνα πρέπει να διασχίσει όλο το data set που έχει αποθηκευμένο, να υπολογίσει την απόσταση της τρέχουσας εικόνας από κάθε εικόνα μέσα σε αυτό και τελικά να εντοπίσει τους k κοντινότερους γείτονες της, το οποίο προφανώς είναι υπολογιστικά πολύ ακριβό. Αρκεί να παρατηρήσουμε ότι ηέτοιμη υλοποίηση της βιβλιοθήκης sklearn απαιτεί χρόνο 10 sec προκειμένου να ταξινομήσει μόνο τις πρώτες 100 εικόνες του test set. Ακόμα περισσότερο χρόνο απιαιτούν για το ίδιο πλήθος test δειγμάτων οι δικές πολύ πιο απλές υλοποιήσεις. Ένας τρόπος να μειώσουμε τον υπολογιστικό αυτό χρόνο είναι να περιορίσουμε το data set το οποίο κάθε φορά καλείται να διατρέξει ο ταξινομητής προκειμένου να ταξινομήσει μια εικόνα. Αυτό μπορούμε να το επιτύχουμε επιλέγοντας να αποθηκεύσουμε στον ταξινομητή κατά την εκπαίδευσή του κατάλληλους αντιπροσώπους για κάθε μια από τις κλάσεις του, οπότε και στη συνέχεια κάθε φορά που καλείται να ταξινομήσει μια εικόνα θα ανζητά κοντινότερους γείτονες για αυτήν μεταξύ των αντιπροσώπων αυτών, και όχι ολόκληρου του data set.    "
   ]
  },
  {
   "cell_type": "markdown",
   "metadata": {},
   "source": [
    "Ένας ακόμα τρόπος να μειώσουμε το χρόνο που απαιτείται για την ταξινόμηση από τον ΚΝΝ ταξινομητή είναι να περιορίσουμε την αναπαράσταση των εικόνων του train και του test set έτσι ώστε κάθε φορά που θέλουμε να υπολογίσουμε την απόσταση μεταξύ τους να μπορούμε να το επιτυγχάνουμε πολύ γρηγορότερα. Για το σκοπό αυτό <b> αναπαριστούμε αρχικά κάθε εικόνα του train και του test set ως τη μέση τιμή του διανύσματος των χαρακτηριστικών της </b>, οπότε και εκπαιδεύουμε τον ΚΝΝ classifier με βάση το νέο τροποποιημένο train set και στη συνέχεια τον αξιολογούμε πάνω στο νέο τροποποιημένο test set."
   ]
  },
  {
   "cell_type": "code",
   "execution_count": 33,
   "metadata": {},
   "outputs": [],
   "source": [
    "x_train_m = [np.array([x]) for x in np.mean(x_train, axis = 1)]\n",
    "x_test_m = [np.array([x]) for x in np.mean(x_test, axis = 1)]"
   ]
  },
  {
   "cell_type": "code",
   "execution_count": 34,
   "metadata": {},
   "outputs": [
    {
     "name": "stdout",
     "output_type": "stream",
     "text": [
      "Wall time: 15.1 s\n"
     ]
    }
   ],
   "source": [
    "%%time\n",
    "\n",
    "knn_m = KNN(x_train_m, y_train, k = 5)\n",
    "preds = [knn_m.classify(x_test_m[i]) for i in range(100)]"
   ]
  },
  {
   "cell_type": "code",
   "execution_count": 35,
   "metadata": {},
   "outputs": [
    {
     "name": "stdout",
     "output_type": "stream",
     "text": [
      "precision : 0.9749019607843138\n",
      "recall : 0.9568181818181818\n",
      "f1 : 0.962567733990148\n",
      "accuracy : 0.96\n"
     ]
    }
   ],
   "source": [
    "labels = [y_test[i] for i in range(100)]\n",
    "eval = Evaluate(y_test[:100],y_pred,x_test_m[:100])\n",
    "metrics = eval.get_metrics()\n",
    "for m in metrics:\n",
    "    print(m+' : '+str(metrics[m]))"
   ]
  },
  {
   "cell_type": "markdown",
   "metadata": {},
   "source": [
    "Παρατηρούμε ότι ο νέος ΚΝΝ ταξινομητής απαιτεί αισθητά μικρότερο χρόνο προκειμένου να ταξινομήσει τις πρώτες 100 εικόνες του test set, συγκριτικά με πριν. Ωστόσο, αναπαριστώντας τις εικόνες με τη μέση τιμή του διανύσματος των χαρακτηριστικών τυος παρατηρούμε ότι μειώνεται και το accuracy του ταξινομητή. Βέβαια, παρόλα αυτά παραμένει σε μια αρκετά υψηλή τιμή 0.8, οπότε ίσως ο συμβιβασμός αυτός να συμφέρει ιδίως όταν σε περιπτώσεις που έχουμε πολύ μεγαλύτερα data sets.  "
   ]
  },
  {
   "cell_type": "markdown",
   "metadata": {
    "id": "Xe17UwwLag5Y"
   },
   "source": [
    "# 3ο Μέρος: Naive Bayes\n",
    "\n",
    "Αρχικά στρογγυλοποιούμε τις τιμές των pixels για να παίρνουν διακριτές τιμές στο $\\{0,1\\}$"
   ]
  },
  {
   "cell_type": "code",
   "execution_count": 36,
   "metadata": {
    "colab": {
     "base_uri": "https://localhost:8080/",
     "height": 265
    },
    "id": "GNbBhsg2ach8",
    "outputId": "7acbc5bb-0e5f-443e-c244-635063571105"
   },
   "outputs": [
    {
     "data": {
      "image/png": "[encoded data removed]",
      "text/plain": [
       "<Figure size 432x288 with 1 Axes>"
      ]
     },
     "metadata": {
      "needs_background": "light"
     },
     "output_type": "display_data"
    }
   ],
   "source": [
    "## Στρογγυλοποίηση:\n",
    "x_train_r = np.round(x_train)\n",
    "x_test_r = np.round(x_test)\n",
    "show_image(x_test_r[0])"
   ]
  },
  {
   "cell_type": "markdown",
   "metadata": {
    "id": "lFORd6XJakZl"
   },
   "source": [
    "Παρακάτω σας δίνεται η κλάση NaiveBayes που υλοποιεί τον αλγόριθμο. Καλείστε αρχικά να υπολογίσετε την πιθανότητα $p(x^{(k)}|i)$ για διάνυσμα χαρακτηριστκών $x$ και κατηγορία $i$ στη μέθοδο compute_probabilities. Στη συνέχεια θα υπολογίσετε την πιθανότητα $p(i|x)$ στη μέθοδο predict."
   ]
  },
  {
   "cell_type": "code",
   "execution_count": 37,
   "metadata": {
    "id": "ufKo5f5yaiqH"
   },
   "outputs": [],
   "source": [
    "class NaiveBayes:\n",
    "    def __init__(self,x,y):\n",
    "        self.x = x\n",
    "        self.y = y\n",
    "        ## pC is a vector with the probability of each class\n",
    "        self.pC = np.zeros((10,))\n",
    "        ## pxC is an array with all probabilities p(xi|C)\n",
    "        self.pxC = np.zeros((x.shape[-1],10))\n",
    "        ## Compute the probabilities\n",
    "        self.compute_probabilities()\n",
    "\n",
    "    def compute_probabilities(self):\n",
    "        ## Compute p(C) for each class\n",
    "        for label in self.y:\n",
    "            self.pC[label]+=1\n",
    "\n",
    "        for attributes, label in zip(self.x, self.y):\n",
    "            for i in range(len(attributes)):\n",
    "                if attributes[i] == 1:\n",
    "                    self.pxC[i][label] += 1\n",
    "        \n",
    "        for label in range(10):\n",
    "            self.pxC[:, label] = self.pxC[:, label]/self.pC[label]\n",
    "        \n",
    "        self.pC = self.pC/self.y.shape[0]\n",
    "\n",
    "    def predict(self,x):\n",
    "        ## ~Probability of x belonging to each class\n",
    "        ## (not actucal probability since we ignore denominator)\n",
    "        pcX = np.ones((10,))\n",
    "        for i in range(10):\n",
    "            pcX[i] = self.pC[i]\n",
    "            for k in range(len(x)):\n",
    "                if x[k] == 1:\n",
    "                    pcX[i] = pcX[i] * self.pxC[k][i]\n",
    "                else:\n",
    "                    pcX[i] = pcX[i] * (1 - self.pxC[k][i])\n",
    "            \n",
    "        return np.argmax(pcX)"
   ]
  },
  {
   "cell_type": "markdown",
   "metadata": {
    "id": "cO9h_Q8bbAgF"
   },
   "source": [
    "## Αξιολόγηση του Naive Bayes"
   ]
  },
  {
   "cell_type": "code",
   "execution_count": 38,
   "metadata": {
    "colab": {
     "base_uri": "https://localhost:8080/",
     "height": 942
    },
    "id": "2PzuaP48amDv",
    "outputId": "b8c84bb1-6451-460d-8d22-890188b57361"
   },
   "outputs": [
    {
     "name": "stdout",
     "output_type": "stream",
     "text": [
      "Wall time: 9.05 s\n"
     ]
    }
   ],
   "source": [
    "%%time\n",
    "nb = NaiveBayes(x_train_r,y_train)\n",
    "preds = [ nb.predict(i) for i in x_test_r[:100]]"
   ]
  },
  {
   "cell_type": "code",
   "execution_count": 39,
   "metadata": {},
   "outputs": [
    {
     "name": "stdout",
     "output_type": "stream",
     "text": [
      "precision : 0.8400974025974026\n",
      "recall : 0.850108225108225\n",
      "f1 : 0.8261529454950507\n",
      "accuracy : 0.85\n",
      "Confusion matrix: \n",
      "[[ 7  0  0  0  0  0  0  0  1  0]\n",
      " [ 0 13  0  1  0  0  0  0  0  0]\n",
      " [ 0  0  7  1  0  0  0  0  0  0]\n",
      " [ 0  0  1 10  0  0  0  0  0  0]\n",
      " [ 1  0  0  0 12  0  0  0  0  1]\n",
      " [ 0  0  0  2  1  4  0  0  0  0]\n",
      " [ 0  0  2  0  0  0  8  0  0  0]\n",
      " [ 0  0  1  0  0  0  0 13  0  1]\n",
      " [ 0  0  0  0  0  0  0  0  2  0]\n",
      " [ 0  0  0  0  1  0  0  0  1  9]]\n",
      "Some images with wrong predictions\n"
     ]
    },
    {
     "data": {
      "image/png": "[encoded data removed]",
      "text/plain": [
       "<Figure size 720x720 with 15 Axes>"
      ]
     },
     "metadata": {
      "needs_background": "light"
     },
     "output_type": "display_data"
    }
   ],
   "source": [
    "eval = Evaluate(y_test[:100], preds, x_test_r[:100])\n",
    "eval.get_evaluation_report()"
   ]
  },
  {
   "cell_type": "markdown",
   "metadata": {
    "id": "xMUHg-dubFa2"
   },
   "source": [
    "## Έτοιμος Naive Bayes\n",
    "\n",
    "Όπως με τους περισσότερους αλγορίθμους μηχανικής μάθησης, υπάρχουν έτοιμες βελτιστοποιημένες υλοποιήσεις για τον Naive Bayes. Παρακάτω ο Gaussian Naive Bayes από το SKLearn. Σε αντίθεση με τη δική μας υλοποίηση, ο συγκεκριμένος δουλεύει και με συνεχή δεδομένα, αφού πρώτα κάνει την υπόθεση πως κάθε χαρακτηριστικό ακολουθεί κανονική κατανομή: [documentation](https://scikit-learn.org/stable/modules/generated/sklearn.naive_bayes.GaussianNB.html)"
   ]
  },
  {
   "cell_type": "markdown",
   "metadata": {},
   "source": [
    "Αρχικά, δοκιμάζουμε το σύνολο x_train ως train set για τον έτοιμο Naive Bayes classifier της βιβλιοθήκης sklearn, δηλαδή το σύνολο των δεδομένων εκπαίδευσης που παίρνουν συνεχείς τιμές στο [0, 1], υποθέτοντας ότι κάθε χαρακτηριστικό ακολουθεί κανονική κατανομή.  "
   ]
  },
  {
   "cell_type": "code",
   "execution_count": 40,
   "metadata": {},
   "outputs": [],
   "source": [
    "from sklearn.naive_bayes import GaussianNB"
   ]
  },
  {
   "cell_type": "code",
   "execution_count": 41,
   "metadata": {
    "colab": {
     "base_uri": "https://localhost:8080/",
     "height": 942
    },
    "id": "Lc7CCDfSbCPh",
    "outputId": "f2b390ea-0fbf-4206-b4f9-d0c72caf1b07"
   },
   "outputs": [
    {
     "name": "stdout",
     "output_type": "stream",
     "text": [
      "Wall time: 469 ms\n"
     ]
    }
   ],
   "source": [
    "%%time\n",
    "gnb = GaussianNB()\n",
    "y_pred = gnb.fit(x_train, y_train).predict(x_test[:100])"
   ]
  },
  {
   "cell_type": "code",
   "execution_count": 42,
   "metadata": {},
   "outputs": [
    {
     "name": "stdout",
     "output_type": "stream",
     "text": [
      "precision : 0.5992985558502799\n",
      "recall : 0.5716774891774892\n",
      "f1 : 0.5081873844349185\n",
      "accuracy : 0.6\n",
      "Confusion matrix: \n",
      "[[ 7  0  0  0  0  0  0  0  0  1]\n",
      " [ 0 14  0  0  0  0  0  0  0  0]\n",
      " [ 3  0  2  0  0  0  2  0  0  1]\n",
      " [ 0  0  1  3  0  0  1  0  5  1]\n",
      " [ 1  1  0  0  4  0  0  0  0  8]\n",
      " [ 2  0  0  0  1  0  0  0  3  1]\n",
      " [ 0  0  0  0  0  0 10  0  0  0]\n",
      " [ 0  0  1  0  0  0  0  8  0  6]\n",
      " [ 1  0  0  0  0  0  0  0  1  0]\n",
      " [ 0  0  0  0  0  0  0  0  0 11]]\n",
      "Some images with wrong predictions\n"
     ]
    },
    {
     "name": "stderr",
     "output_type": "stream",
     "text": [
      "C:\\Users\\user\\anaconda3\\lib\\site-packages\\sklearn\\metrics\\_classification.py:1272: UndefinedMetricWarning: Precision is ill-defined and being set to 0.0 in labels with no predicted samples. Use `zero_division` parameter to control this behavior.\n",
      "  _warn_prf(average, modifier, msg_start, len(result))\n"
     ]
    },
    {
     "data": {
      "image/png": "[encoded data removed]",
      "text/plain": [
       "<Figure size 720x720 with 20 Axes>"
      ]
     },
     "metadata": {
      "needs_background": "light"
     },
     "output_type": "display_data"
    }
   ],
   "source": [
    "eval = Evaluate(y_test[:100], y_pred, x_test[:100])\n",
    "eval.get_evaluation_report()"
   ]
  },
  {
   "cell_type": "markdown",
   "metadata": {},
   "source": [
    "Στη συνέχεια, δοκιμάζουμε να εκπαιδεύσουμε τον ταξινομητή Niave Bayes της βιβλιοθήκης sklearn με το στρογγυλοποιημένο σύνολο δεδομένων, στο οποίο καθένα από τα χαρακτηριστικά παίρνει τιμές στο διακριτό σύνολο {0, 1}. "
   ]
  },
  {
   "cell_type": "code",
   "execution_count": 43,
   "metadata": {},
   "outputs": [],
   "source": [
    "from sklearn.naive_bayes import BernoulliNB"
   ]
  },
  {
   "cell_type": "code",
   "execution_count": 44,
   "metadata": {},
   "outputs": [
    {
     "name": "stdout",
     "output_type": "stream",
     "text": [
      "Wall time: 416 ms\n"
     ]
    }
   ],
   "source": [
    "%%time\n",
    "gnb = BernoulliNB()\n",
    "y_pred = gnb.fit(x_train_r, y_train).predict(x_test[:100])"
   ]
  },
  {
   "cell_type": "code",
   "execution_count": 45,
   "metadata": {},
   "outputs": [
    {
     "name": "stdout",
     "output_type": "stream",
     "text": [
      "precision : 0.7911499611499612\n",
      "recall : 0.8163311688311689\n",
      "f1 : 0.7725889593722411\n",
      "accuracy : 0.8\n",
      "Confusion matrix: \n",
      "[[ 8  0  0  0  0  0  0  0  0  0]\n",
      " [ 0 11  0  1  0  1  0  0  1  0]\n",
      " [ 0  0  7  1  0  0  0  0  0  0]\n",
      " [ 0  0  2  9  0  0  0  0  0  0]\n",
      " [ 1  0  0  0 11  0  0  0  0  2]\n",
      " [ 0  0  0  2  1  4  0  0  0  0]\n",
      " [ 0  0  2  0  0  0  8  0  0  0]\n",
      " [ 0  0  0  0  0  0  0 12  2  1]\n",
      " [ 0  0  0  0  0  0  0  0  2  0]\n",
      " [ 0  0  0  0  0  0  0  0  3  8]]\n",
      "Some images with wrong predictions\n"
     ]
    },
    {
     "data": {
      "image/png": "[encoded data removed]",
      "text/plain": [
       "<Figure size 720x720 with 20 Axes>"
      ]
     },
     "metadata": {
      "needs_background": "light"
     },
     "output_type": "display_data"
    }
   ],
   "source": [
    "eval = Evaluate(y_test[:100], y_pred, x_test_r[:100])\n",
    "eval.get_evaluation_report()"
   ]
  },
  {
   "cell_type": "markdown",
   "metadata": {},
   "source": [
    "## Σχολιασμός και Σύγκριση υλοποιήσεων"
   ]
  },
  {
   "cell_type": "markdown",
   "metadata": {},
   "source": [
    "### Επίδοση ταξινομητών ως προς το ποσοστό επιτυχίας των ταξινομήσεών τους"
   ]
  },
  {
   "cell_type": "markdown",
   "metadata": {},
   "source": [
    "Παρατηρούμε ότι τόσο η δική μας υλοποίηση για το Naive Bayes classifier (accuracy: 0.85) όσο και ο έτοιμος Bernoulli Naive Bayes Classifier (accuracy: 0.8) που χρησιμοποιούν τα στρογγυλοποιημένα train και test sets παρουσιάζουν μεγαλύτερο accuracy, δηλαδή ταξινομούν σωστά μεγαλύτερο ποσοστό εικόνων του test set συγκριτικά με τον έτοιμο Gausssian Naive Bayes classifier (accuracy : 0.6) ο οποίος χρησιμοποιεί τα αρχικά train και test sets. Το γεγονός αυτό οδηγεί στο συμπέρασμα ότι <b>η υπόθεση που κάνουμε</b> στο Gaussian Naive Bayes classifier ότι τα χαρακτηριστικά ακολουθούν κανονική κατανομή μάλλον <b>δεν είναι ιδιαίτερα ευσταθής</b>.\n",
    "Βέβαια, παρατηρούμε ότι το accuacy ακόμα και των δύο υλοποιήσεων με τα διακριτά train και test set είναι πιο μικρό συγκριτικά με τον KNN classifier κατά τουλάχιστον 0.1. Αυτό πιθανόν να οφείλεται στο γεγονός ότι προκειμένου να υλοποιήσουμε τους συγκεκριμένους classifiers <b>στρογγυλοποιήσαμε</b> τα χαρακτηριστικά στις διακριτές τιμές {0, 1} οπότε και περιορίσαμε λίγο την πληροφορία που αυτά μεταφέρουν και εξασφαλίζουν ώστε να εκπαιδευτεί όσο το δυνατόν καλύτερα ο classifier για να ταξινμεί σωστά τις εικόνες. Βέβαια, στο συγκεκριμένο πρόβλημα όπου μας είναι απαραίτητη απλά η γνώση εάν ένα Pixel ήταν \"ανναμένο\" ή \"σβηστό\" στην αναπαράσταση του συγκεκριμένου αριθμού μπορούμε να πούμε ότι δεν παίζει καθοριστικό ρόλο η προσέγγιση αυτή συγκριτικά μάλιστα και με τα χρονικά οφέλη που έχουμε.  "
   ]
  },
  {
   "cell_type": "markdown",
   "metadata": {},
   "source": [
    "### Επίδοση των ταξινομητών ως προς τις χρονικές απαιτήσεις τους"
   ]
  },
  {
   "cell_type": "markdown",
   "metadata": {},
   "source": [
    "Παρατηρούμε ότι <b> οι χρονικές απαιτήσεις των ταξινομητών Naive Bayes συγκριτικά με τους KNN ταξινομητές είναι αισθητά μειωμένες</b>, κάτι το οποίο ήταν αναμενόμενο. Οι ΚΝΝ ταξινομητές προκειμένουν να ταξινομήσουν σωστά μια εικόνα πρέπει να διατρέξουν κάθε φορά όπως είπαμε όλο το train set και από αυτό να επιλέξουν τους k κοντινότερους γείτονες της τρέχουσας εικόνας. Αντίθετα, οι Naive Bayes ταξινμητές υπολογίζουν κατά την εκπαίδευσή τους κάποιες απαιταίτητες πιθανότητες πάνω στο train set, και στη συνέχεια υπολογίζοντας για κάθε εικόνα που καλούνται να ταξινμήσουν κάποια γινόμενα πάνω στις πιθανότητες αυτές και εντοπίζοντας το μέγιστο από αυτά είναι σε θέση με πολύ πιο απλό και γρήγορο τρόπο να επιλέξουν σε ποιά κλάση θα ταξινομήσουν τη συγκεκριμένη εικόνα.  "
   ]
  },
  {
   "cell_type": "markdown",
   "metadata": {},
   "source": [
    "Προκειμένου να μειώσουμε περισσότερο το χρόνο που απαιτεί ο Naive Bayes classifier που υλοποιήσαμε θα χρησιμοποιήσουμε την αναπαράσταση των εικόνων που χρησιμοποιήσαμε και πριν (μέση τιμή του διανύσματος των χαρακτηριστικών της)."
   ]
  },
  {
   "cell_type": "code",
   "execution_count": 46,
   "metadata": {},
   "outputs": [],
   "source": [
    "x_train_rm = np.array([np.array([x]) for x in np.mean(x_train_r, axis = 1)])\n",
    "x_test_rm = np.array([np.array([x]) for x in np.mean(x_test_r, axis = 1)])"
   ]
  },
  {
   "cell_type": "code",
   "execution_count": 47,
   "metadata": {},
   "outputs": [
    {
     "name": "stdout",
     "output_type": "stream",
     "text": [
      "Wall time: 33.5 ms\n"
     ]
    }
   ],
   "source": [
    "%%time\n",
    "nb_rm = NaiveBayes(x_train_rm,y_train)\n",
    "preds = [ nb.predict(i) for i in x_test_rm[:100]]"
   ]
  },
  {
   "cell_type": "code",
   "execution_count": 48,
   "metadata": {},
   "outputs": [
    {
     "name": "stdout",
     "output_type": "stream",
     "text": [
      "precision : 0.014000000000000002\n",
      "recall : 0.1\n",
      "f1 : 0.02456140350877193\n",
      "accuracy : 0.14\n"
     ]
    },
    {
     "name": "stderr",
     "output_type": "stream",
     "text": [
      "C:\\Users\\user\\anaconda3\\lib\\site-packages\\sklearn\\metrics\\_classification.py:1272: UndefinedMetricWarning: Precision is ill-defined and being set to 0.0 in labels with no predicted samples. Use `zero_division` parameter to control this behavior.\n",
      "  _warn_prf(average, modifier, msg_start, len(result))\n"
     ]
    }
   ],
   "source": [
    "eval = Evaluate(y_test[:100], preds, x_test_rm[:100])\n",
    "metrics = eval.get_metrics()\n",
    "for m in metrics:\n",
    "    print(m+' : '+str(metrics[m]))"
   ]
  },
  {
   "cell_type": "markdown",
   "metadata": {},
   "source": [
    "Παρατηρούμε ότι εδώ παρότι μειώνεται αρκετά ο χρόνος που απιτείται το accuracy του ταξινομητή μας μειώνεται κατακόρυφα, κάτι το οποίο βέβαια εάν παρατηρήσουμε λίγο καλύτερα ήταν αναμενόμενο. Αρκεί να αναλογιστούμε ότι ήδη έχουμε τρογγυλοποιήσει τα χαρακτηριστικά σε διακριτές τιμές {0, 1}, οπότε ένας μέσος όρος πάνω σε αυτά μειώνει πλέον σε μεγάλο βαθμό τις πληροφορίες που έχουμε για μια εικόνα μέσω των χαρακτηιστικών της. Οπότε, ενώ στον ταξινομητή ΚΝΝ η προσέγγιση αυτή μπορεί να έδινε κάποια αποδεκτά αποτελέσματα συνδυαστικά μάλιστα με τη μεγάλη υπολογιστική πολυπλοκότητα του συγκεκριμένου ταξινομητή, αλλά αντίθετα εδώ δε θα μπορούσε να χρησιμοποιηθεί. Αυτό βέβαια δεν απαγορεύει ότι μπορούν να χρησιμοποιηθούν άλλες ναπαραστάσεις για μια εικόνα προκειμένου να μειώσουμε το μέγεθος του διανύσματος των χαρακτηριστικών αυξάνοντας τη χρονική απόδοση του ταξινομητή."
   ]
  },
  {
   "cell_type": "markdown",
   "metadata": {},
   "source": [
    "# 4ο Μέρος: Multi-Layer Perceptron "
   ]
  },
  {
   "cell_type": "markdown",
   "metadata": {
    "id": "Vvw-OUkjbRb9"
   },
   "source": [
    "Σε αυτό το σημείο της άσκησης θα επιλύσετε το παραπάνω πρόβλημα κατασκευάζοντας ένα πολύεπίπεδο νευρωνικό δίκτυο. Αρχικά θα υλοποιήσετε το νευρωνικό χωρίς να χρησιμοποιήσετε κάποια έτοιμη κλάση κάποιας βιβλιοθήκης (όπως sckit-learn, keras), ενώ στην συνέχεια θα κατασκευάσετε το ίδιο σύστημα με την χρήση της βιβλιοθήκης sckit-learn. "
   ]
  },
  {
   "cell_type": "markdown",
   "metadata": {
    "id": "vovDwSIPbTiE"
   },
   "source": [
    "Στο παρακάτω κελί κώδικα σας δίνεται η βασική δομή του επιπέδου ενός πολυεπίπεδου νευρωνικού δικτύου. Η παρακάτω κλάση δεν υλοποιεί κάποιο πραγματικό επίπεδο (όπως Dense) αλλά αυτή χρησιμοποιείται για την παρουσίαση των λειτουργιών κάθε επιπέδου.\n",
    "\n",
    "Ουσιαστικά κάθε επίπεδο ενός νευρωνικού δικτύου πρέπει να είναι σε θέση να κάνει: \n",
    "\n",
    "\n",
    "1.   Για μια είσοδο να υπολογίζει την έξοδο κάθε νευρώνα. Αυτό επιτυγχάνεται μέσω της μεθόδου forward η όποια δέχεται ως όρισμα μια είσοδο  και επιστρέφει έναν πίνακα με τις εξόδους κάθε νευρώνα του επιπέδου. \n",
    "\n",
    "2.   Να υπολογίζει τις μεταβολές οι όποιες πρέπει να γίνουν στα βάρη κάθε επιπέδου, ανάλογα με το πόσο καλά- κοντινά ήταν τα αποτελέσματα του επιπέδου στα πραγματικά. Η λειτουργία αυτή θα μας βοηθήσει την ανανέωση των βαρών του δικτύου και συνεπώς στην σωστή εκπαίδευσή του. Η λειτουργικότητα αυτή επιτυγχάνεται μέσω της μεθόδου backward. \n",
    "\n",
    "  \n",
    "\n",
    "Η λειτουργικότητα συνεπώς κάθε επιπέδου καθορίζεται από την συνάρτηση που υλοποιείται στην μέθοδο forward. Ένα instance της παρακάτω κλάσης συνεπώς  επιστρέφει ως έξοδο την είσοδο κάθε νευρώνα (ταυτοτική συνάρτηση) όποτε δεν προσφέρει κάποια υψηλή λειτουργικότητα. Στην παρακάτω κλάση δεν έχετε να προσθέσετε κάτι, απλά να μελετήσετε και να καταλάβετε την δομή που πρέπει να έχει ένα επίπεδο. "
   ]
  },
  {
   "cell_type": "code",
   "execution_count": 49,
   "metadata": {
    "id": "jgx1VIMmbMQP"
   },
   "outputs": [],
   "source": [
    "class Layer:\n",
    "    def __init__(self):\n",
    "        \"\"\"Here we can initialize layer parameters (if any) and auxiliary stuff.\"\"\"\n",
    "        # A dummy layer does nothing\n",
    "        pass\n",
    "    \n",
    "    def forward(self, input):\n",
    "        \"\"\"\n",
    "        Takes input data of shape [batch, input_units], returns output data [batch, output_units]\n",
    "        \"\"\"\n",
    "        # A dummy layer just returns whatever it gets as input.\n",
    "        return input\n",
    "\n",
    "    def backward(self, input, grad_output):\n",
    "        # The gradient of a dummy layer is precisely grad_output, but we'll write it more explicitly\n",
    "        num_units = input.shape[1]\n",
    "        \n",
    "        d_layer_d_input = np.eye(num_units)\n",
    "        \n",
    "        return np.dot(grad_output, d_layer_d_input) # chain rule"
   ]
  },
  {
   "cell_type": "markdown",
   "metadata": {
    "id": "r1iQCroAbV-F"
   },
   "source": [
    "Στο σημείο αυτό αξίζει να αναφερθεί ότι για την σωστή εκπαίδευση του δικτύου (σε πρακτικό επίπεδο) πρέπει να διαχωριστεί η έξοδος κάθε νευρώνα πριν και μετά την συνάρτηση ενεργοποίησης. Έτσι η παραπάνω μέθοδος forward της κλάσης layer πρέπει να υπολογίζει την έξοδο του επιπέδου χωρίς την συνάρτηση ενεργοποίησης και κάποια άλλη κλάση να υπολογίζει το αποτέλεσμα με αυτή.  \n",
    "\n",
    "  \n",
    "\n",
    "Έκτος όμως από την εκπαίδευση του δικτύου, ο διαχωρισμός αυτός μας βοηθά σημαντικά και κατά την φάση σχεδιασμού της  αρχιτεκτονικής μιας και μας δίνει την δυνατότητα να αλλάζουμε την συνάρτηση ενεργοποίησης χωρίς κάθε φόρα να πρέπει να αλλάξουμε ολόκληρη την κλάση layer. Για τους παραπάνω λόγους θα χειριζόμαστε την συνάρτηση ενεργοποίησης σαν ένα ξεχωριστό επίπεδο με τις δικές της μεθόδους: forward, backward.  \n",
    "\n",
    "  \n",
    "\n",
    "Παρακάτω παρουσιάζεται η κλάση η όποια υλοποιεί την λειτουργικότητα της συνάρτησης ενεργοποίησης [ReLU](https://en.wikipedia.org/wiki/Rectifier_(neural_networks)).  \n",
    "\n",
    "  \n",
    "\n",
    "Με την ίδια λογική μπορούμε να υλοποιήσουμε οποιαδήποτε άλλη συνάρτηση ενεργοποίησης θέλουμε π.χ. sigmoid, tanh κ.ο.κ. και επιπλέον μπορούμε να τις εναλλάσσουμε μεταξύ επιπέδων χωρίς δυσκολία. "
   ]
  },
  {
   "cell_type": "code",
   "execution_count": 50,
   "metadata": {
    "id": "6P33228VbYIf"
   },
   "outputs": [],
   "source": [
    "class ReLU(Layer):\n",
    "    def __init__(self):\n",
    "        \"\"\"ReLU layer simply applies elementwise rectified linear unit to all inputs\"\"\"\n",
    "        pass\n",
    "    \n",
    "    def forward(self, input):\n",
    "        \"\"\"Apply elementwise ReLU to [batch, input_units] matrix\"\"\"\n",
    "        relu_forward = np.maximum(0,input)\n",
    "        return relu_forward\n",
    "    \n",
    "    def backward(self, input, grad_output):\n",
    "        \"\"\"Compute gradient of loss w.r.t. ReLU input\"\"\"\n",
    "        relu_grad = input > 0\n",
    "        return grad_output*relu_grad"
   ]
  },
  {
   "cell_type": "markdown",
   "metadata": {
    "id": "Rrrub_76ba19"
   },
   "source": [
    "Η κλάση Dense υλοποιεί ένα επίπεδο dense όπου η έξοδος κάθε νευρώνα (χωρίς τη  συνάρτηση ενεργοποίησης) υπολογίζεται από την παρακάτω εξίσωση: \n",
    "\n",
    "  \n",
    "\n",
    "  \n",
    "\n",
    "$$ z(x) = w^Τx + b $$ \n",
    "\n",
    "  \n",
    "\n",
    "όπου $w$, $b$ είναι τα βάρη του επιπέδου.   \n",
    "\n",
    "  \n",
    "\n",
    "Συνεπώς το δίκτυο είναι απαραίτητοί να διατηρεί 2 τους δυο πίνακες με τα βάρη οι όποιο στην μέθοδο forward θα χρησιμοποιούνται για τον υπολογισμό της εξόδου και θα ανανεώνονται από την μέθοδο backward. Οι πίνακες αυτοί δημιουργούνται κατά την κατασκευή κάθε στιγμιότυπου και αρχικοποιούνται, ο πρώτος τυχαία και ο δεύτερος με μηδενικά.  Στο σημείο αυτό καλείστε να συμπληρώσετε την μέθοδο forward με κατάλληλο τρόπο ώστε να επιτυγχάνεται επιθυμητή λειτουργικότητα. "
   ]
  },
  {
   "cell_type": "code",
   "execution_count": 51,
   "metadata": {
    "id": "HEnuIuOHbZge"
   },
   "outputs": [],
   "source": [
    "class Dense(Layer):\n",
    "    def __init__(self, input_units, output_units, learning_rate=0.1):\n",
    "        \"\"\"\n",
    "        Weight Initialization\n",
    "        \"\"\"\n",
    "        self.input_units = input_units\n",
    "        self.output_units = output_units\n",
    "        \n",
    "        self.learning_rate = learning_rate\n",
    "        self.weights = np.random.normal(loc=0.0, \n",
    "                                        scale = np.sqrt(2/(input_units+output_units)), \n",
    "                                        size = (input_units,output_units))\n",
    "        self.biases = np.zeros(output_units)\n",
    "        \n",
    "    def forward(self,input):\n",
    "        \"\"\"\n",
    "        Perform an affine transformation:\n",
    "        f(x) = <W*x> + b\n",
    "        \n",
    "        input shape: [number of inputs, input units]\n",
    "        output shape: [number of inputs, output units]\n",
    "        \"\"\"\n",
    "\n",
    "        #output = np.zeros(self.output_units)\n",
    "        #for i in range(self.output_units):\n",
    "        #    output[i] = np.dot(self.weights[i], x) + self.biases[i]\n",
    "        \n",
    "        output = np.dot(input, self.weights) + self.biases\n",
    "        \n",
    "        return output\n",
    "    \n",
    "    def backward(self,input,grad_output):\n",
    "        # compute d f / d x = d f / d dense * d dense / d x\n",
    "        # where d dense/ d x = weights transposed\n",
    "        grad_input = np.dot(grad_output, self.weights.T)\n",
    "        \n",
    "        # compute gradient w.r.t. weights and biases\n",
    "        grad_weights = np.dot(input.T, grad_output)\n",
    "        grad_biases = grad_output.mean(axis=0)*input.shape[0]\n",
    "        \n",
    "        assert grad_weights.shape == self.weights.shape and grad_biases.shape == self.biases.shape\n",
    "        \n",
    "        # Here we perform a stochastic gradient descent step. \n",
    "        self.weights = self.weights - self.learning_rate * grad_weights\n",
    "        self.biases = self.biases - self.learning_rate * grad_biases\n",
    "        \n",
    "        return grad_input"
   ]
  },
  {
   "cell_type": "markdown",
   "metadata": {
    "id": "Ml2jvLeybeRe"
   },
   "source": [
    "Οι παρακάτω συναρτήσεις χρησιμοποιούνται για να μπορεί το δίκτυο να ελέγχει πόσο κοντά βρίσκονται τα αποτελέσματα του στα πραγματικά (Loss function). Όπως είναι λογικό υπάρχουν διαφορετικές τέτοιες συναρτήσεις ανάλογα το πρόβλημα που καλείται να λύσει το δίκτυο. Η παρακάτω συνάρτηση ονομάζεται [softmax](https://en.wikipedia.org/wiki/Softmax_function) και χρησιμοποιείται κατά κύριο λόγο σε προβλήματα ταξινόμησης όπως το συγκεκριμένο. Η softmax δέχεται σαν είσοδο τις ενεργοποιήσεις του τελευταίου επιπέδου και επιστρέφει μια κατανομή πιθανοτήτων για κάθε μια από τις κλάσεις εξόδου (π.χ. κλάση 0 έχει πιθανότητα 0.001,  η κλάση 1 έχει 0.9 κ.ο.κ.).  "
   ]
  },
  {
   "cell_type": "code",
   "execution_count": 52,
   "metadata": {
    "id": "qT7nl_1Gbc0B"
   },
   "outputs": [],
   "source": [
    "def softmax_crossentropy_with_logits(logits,reference_answers):\n",
    "    \"\"\"Compute crossentropy from logits[batch,n_classes] and ids of correct answers\"\"\"\n",
    "    logits_for_answers = logits[np.arange(len(logits)),reference_answers]\n",
    "    xentropy = - logits_for_answers + np.log(np.sum(np.exp(logits),axis=-1))\n",
    "    return xentropy\n",
    "\n",
    "def grad_softmax_crossentropy_with_logits(logits,reference_answers):\n",
    "    \"\"\"Compute crossentropy gradient from logits[batch,n_classes] and ids of correct answers\"\"\"\n",
    "    ones_for_answers = np.zeros_like(logits)\n",
    "    ones_for_answers[np.arange(len(logits)),reference_answers] = 1\n",
    "    \n",
    "    softmax = np.exp(logits) / np.exp(logits).sum(axis=-1,keepdims=True)\n",
    "    \n",
    "    return (- ones_for_answers + softmax) / logits.shape[0]"
   ]
  },
  {
   "cell_type": "markdown",
   "metadata": {
    "id": "5XnSJjxYbhdX"
   },
   "source": [
    "Έχοντας υλοποιήσει τις κλάσεις Dense και ReLU μπορούμε πλέον να κατασκευάσουμε μια κλάση η όποια θα ορίζει ένα πολυεπίπεδο νευρωνικό δίκτυο (MLP). Το δίκτυο αυτό ουσιαστικά αποτελείται από μια ακολουθία Dense επιπέδων όπου το κάθε ένα (εκτός του τελευταίου) ακολουθείται από μια μη-γραμμική συνάρτηση ενεργοποίησης (ReLU). Όμοια με πριν, η κλάση αυτή πρέπει να περιέχει μια μέθοδο forward η όποια θα δέχεται μια είσοδο (εδώ μια εικόνα flatten) και θα επιστρέφει μια έξοδο (εδώ μια κατανομή 10 πιθανοτήτων). Παράλληλα πρέπει να περιέχει και μια μέθοδο fit, η όποια θα εκπαιδεύει το δίκτυο δεδομένου ενός τέτοιου συνόλου (εδώ του x_train). Στο σημείο αυτό χρησιμοποιούνται οι μέθοδοι backward που έχουν οριστεί για κάθε ένα επίπεδο (δεν χρειάζεται να συμπληρώσετε κάτι).  Τέλος θα ήταν βοηθητικό να έχουμε και μια μέθοδο η όποια θα μετατρέπει την κατανομή εξόδου στην επιστρεφόμενη κλάση (predict) για κάποιο ή κάποια στιγμιότυπα του συνόλου δεδομένων.   \n",
    "\n",
    "Το δίκτυο όπως αναφέρθηκε και προηγουμένως αποτελείται από έναν αριθμό Dense επιπέδων κάθε ένα από τα όποια ακολουθείται από μια συνάρτηση ReLU. Η κατασκευή των επιπέδων γίνεται κατά την στιγμή δημιουργίας του δικτύου, όπου δίνεται ως είσοδος μια λίστα με το μέγεθος κάθε επιπέδου, μαζί με το μέγεθος εισόδου (εδώ 28*28). Έτσι για παράδειγμα η παρακάτω γραμμή κώδικα:  \n",
    "``` \n",
    "net = MLP([100, 200, 100, 10], 784)  \n",
    "```  \n",
    "κατασκευάζει ένα MLP το όποιο αποτελείται από 4 επίπεδα με μέγεθος 100, 200, 100, 10. Ο αριθμός των επιπέδων καθώς και του μεγέθους καθενός από αυτά είναι ελεύθερος να οριστεί από τον χρήστη.   \n",
    "Στον constructor της κλάσης ουσιαστικά ορίζεται μια λίστα η όποια περιέχει κάθε ένα από τα επίπεδα που πρέπει να οριστούν, π.χ. για το παραπάνω παράδειγμα η μεταβλητή net.network περιέχει τα εξής στιγμιότυπα των κλάσεων:  \n",
    "\n",
    "``` \n",
    "[Dense(100), ReLU(), Dense(200), ReLU(), Dense(100), ReLU(), Dense(10)]  \n",
    "```  \n",
    "\n",
    "Συνεπώς η λειτουργικότητα του δικτύου όπως και πριν πρέπει να οριστεί στην μέθοδο forward. Στο σημείο αυτό καλείστε να συμπληρώσετε την μέθοδο αυτή έτσι ώστε το δίκτυο να λειτουργεί όπως πρέπει, δηλαδή στο παράδειγμά μας η είσοδος να περνά από το επίπεδο Dense(100), μετά από το ReLU(), στην συνέχεια από το Dense(200) κ.ο.κ. μέχρι και το τελευταίο επίπεδο.  Ο αλγόριθμος αυτός παρουσιάζεται και σε ψευδοκώδικα στην διαφάνεια 33 του μαθήματος. "
   ]
  },
  {
   "cell_type": "code",
   "execution_count": 53,
   "metadata": {
    "id": "MHHcg1unbf21"
   },
   "outputs": [],
   "source": [
    "class MLP:\n",
    "    def __init__(self, shapes, input_dim, learning_rate = 0.1):\n",
    "        '''\n",
    "        Κατασκευή του MLP. Τα επίπεδα και το μέγεθός τους ορίζεται από την μεταβλήτη shape, ενώ\n",
    "        το μέγεθος της εισόδου ορίζεται από την μεταβλήτη input_dim\n",
    "        '''\n",
    "        self.shapes = shapes\n",
    "        self.network = [Dense(input_dim, shapes[0], learning_rate = learning_rate)]\n",
    "        self.network.append(ReLU())\n",
    "        for i in range(1, len(self.shapes) - 1):\n",
    "            self.network.append(Dense(shapes[i-1],shapes[i], learning_rate = learning_rate))\n",
    "            self.network.append(ReLU())\n",
    "        self.network.append(Dense(shapes[i],shapes[-1], learning_rate))\n",
    "\n",
    "    def forward(self, X):\n",
    "        \"\"\"\n",
    "        Αγόριθμος διφάνειας 33\n",
    "        \"\"\"\n",
    "        activations = []\n",
    "        input = X\n",
    "        # Looping through each layer\n",
    "        for l in self.network:\n",
    "            X = l.forward(X)\n",
    "            activations.append(X)\n",
    "            \n",
    "        assert len(activations) == len(self.network)\n",
    "        return activations\n",
    "\n",
    "    def predict(self,X):\n",
    "        \"\"\"\n",
    "        Προβλέπει την έξοδο του δικτύου για ένα ή περισσότερα στιγμιότυπα εισόδου\n",
    "        \"\"\"\n",
    "        logits = self.forward(X)[-1]\n",
    "        return logits.argmax(axis=-1)\n",
    "\n",
    "    def fit(self, X, y):\n",
    "        # Get the layer activations\n",
    "        layer_activations = self.forward(X)\n",
    "        layer_inputs = [X]+layer_activations  #layer_input[i] is an input for network[i]\n",
    "        logits = layer_activations[-1]\n",
    "        \n",
    "        # Compute the loss and the initial gradient\n",
    "        loss = softmax_crossentropy_with_logits(logits,y)\n",
    "        loss_grad = grad_softmax_crossentropy_with_logits(logits,y)\n",
    "        \n",
    "        # Propagate gradients through the network\n",
    "        # Reverse propogation as this is backprop\n",
    "        for layer_index in range(len(self.network))[::-1]:\n",
    "            layer = self.network[layer_index]\n",
    "            loss_grad = layer.backward(layer_inputs[layer_index],loss_grad) #grad w.r.t. input, also weight updates\n",
    "        return np.mean(loss)"
   ]
  },
  {
   "cell_type": "markdown",
   "metadata": {
    "id": "6zCBcKqvbm4t"
   },
   "source": [
    "## Αξιολόγηση ενός Multi-Layer Perceptron\n",
    "\n",
    "Αφού έχουμε κατασκευάσει τα παραπάνω είμαστε πλέον σε θέση να εκπαιδεύσουμε το MLP. Αυτό γίνεται καλώντας την μέθοδο fit. Στο παρακάτω κελί κώδικα ορίζεται το MLP του παραπάνω παραδείγματος και εκπαιδεύεται για 25 εποχές. Στο τέλος κάθε εποχής παρουσιάζονται τα αποτελέσματα του μαζί με μια γραφική των train και test accuracy. "
   ]
  },
  {
   "cell_type": "markdown",
   "metadata": {},
   "source": [
    "Δοκιμάζουμε αρχικά μια αρχιτεκτονική με 4 layers, καθένα από τα οποία θα έχει μέγεθος 100, 200, 100 και 10 (έξοδος) αντίστοιχα. Αρχικά, θα εκπαιδεύσουμε το μοντέλο μας για 25 εποχές."
   ]
  },
  {
   "cell_type": "code",
   "execution_count": 54,
   "metadata": {
    "id": "4jw-8qN6bjQG"
   },
   "outputs": [
    {
     "name": "stdout",
     "output_type": "stream",
     "text": [
      "Epoch 24\n",
      "Train accuracy: 0.6869\n",
      "Val accuracy: 0.6783\n"
     ]
    },
    {
     "data": {
      "image/png": "[encoded data removed]",
      "text/plain": [
       "<Figure size 432x288 with 1 Axes>"
      ]
     },
     "metadata": {
      "needs_background": "light"
     },
     "output_type": "display_data"
    },
    {
     "name": "stdout",
     "output_type": "stream",
     "text": [
      "precision : 0.7253307426815829\n",
      "recall : 0.668123730093669\n",
      "f1 : 0.6321213391010684\n",
      "accuracy : 0.6783\n",
      "Confusion matrix: \n",
      "[[ 917    0   16    6    0    1   29    2    9    0]\n",
      " [   0 1041    1    3    1    0    5    2   69   13]\n",
      " [  41   48  635   86    4    0  134   22   51   11]\n",
      " [  24   14   33  863    0    0    7   25   27   17]\n",
      " [   2   13   43    3  239    0   90    3    6  583]\n",
      " [ 116   47   25  374   11   58   42   75  121   23]\n",
      " [  21   10   62    3    0    2  846    0   13    1]\n",
      " [   5   61   11    1    1    0    4  871   20   54]\n",
      " [  25   63   37  225    3    1   25   31  520   44]\n",
      " [  14   34   21   21   16    0   12   79   19  793]]\n",
      "Some images with wrong predictions\n"
     ]
    },
    {
     "data": {
      "image/png": "[encoded data removed]",
      "text/plain": [
       "<Figure size 720x720 with 20 Axes>"
      ]
     },
     "metadata": {
      "needs_background": "light"
     },
     "output_type": "display_data"
    }
   ],
   "source": [
    "from IPython.display import clear_output\n",
    "import numpy as np\n",
    "\n",
    "network = MLP([100, 200, 100, 10], 28*28)\n",
    "\n",
    "train_log = []\n",
    "val_log = []\n",
    "\n",
    "#Αυτά πρέπει να τρέχουν αφού έχετε φτιάξει σωστά τον κώδικα της MLP\n",
    "for epoch in range(25):\n",
    "    network.fit(x_train,y_train)\n",
    "    \n",
    "    train_log.append(np.mean(network.predict(x_train)==y_train))\n",
    "    val_log.append(np.mean(network.predict(x_test)==y_test))\n",
    "    \n",
    "    clear_output()\n",
    "    print(\"Epoch\",epoch)\n",
    "    print(\"Train accuracy:\",train_log[-1])\n",
    "    print(\"Val accuracy:\",val_log[-1])\n",
    "    plt.plot(train_log,label='train accuracy')\n",
    "    plt.plot(val_log,label='val accuracy')\n",
    "    plt.legend(loc='best')\n",
    "    plt.grid()\n",
    "    plt.show()\n",
    "\n",
    "y_pred = network.predict(x_test)\n",
    "\n",
    "eval = Evaluate(y_test, y_pred, x_test)\n",
    "eval.get_evaluation_report()"
   ]
  },
  {
   "cell_type": "markdown",
   "metadata": {},
   "source": [
    "Παρατηρούμε ότι με την παραπάνω εκπαίδευση του νευρωνικού δικτύου επιτύχαμε accuracy 0.69 και έναν σχετικά καλό confusion matrix με πιο μεγάλες τιμές στη διαγώνιο. Κατά την εκπαίδευση του δικτύου παρατηρήσαμε ότι τόσο το train όσο και το val accuracy αυξανόταν συνεχώς και με την πάροδο των εποχών το ένα προσέγγιζε όλο και περισσότερο το άλλο. Μάλιστα ακόμα και μετά τις 15 πρώτες επόχές το val accuracy συνέχισε να αυξανεται με αρκετά μεγάλο ρυθμό της τάξης του 0.02. Ωστόσο, παρατηρούμε ότι το accuracy που προέκυψε αποτελέι αύξουσα συνάρτηση στο χρόνο, οπότε και συμπαιρένουμε ότι το μοντέλο μας θα μπορούσε να συνεχίσει να \"μαθαίνει\", δίνοντας μας ακόμα καλύτερα αποτελέσματα. Για το σκοπό αυτό θα δοκιμάσουμε να εκπαιδεύσουμε το μοντέλο μας με περισσότερες εποχές (100 εποχές)."
   ]
  },
  {
   "cell_type": "code",
   "execution_count": 55,
   "metadata": {},
   "outputs": [
    {
     "name": "stdout",
     "output_type": "stream",
     "text": [
      "Epoch 99\n",
      "Train accuracy: 0.8892\n",
      "Val accuracy: 0.8913\n"
     ]
    },
    {
     "data": {
      "image/png": "[encoded data removed]",
      "text/plain": [
       "<Figure size 432x288 with 1 Axes>"
      ]
     },
     "metadata": {
      "needs_background": "light"
     },
     "output_type": "display_data"
    },
    {
     "name": "stdout",
     "output_type": "stream",
     "text": [
      "precision : 0.8903185927448238\n",
      "recall : 0.8900913408248952\n",
      "f1 : 0.8895729244651334\n",
      "accuracy : 0.8913\n",
      "Confusion matrix: \n",
      "[[ 948    0    3    2    0   11    8    1    7    0]\n",
      " [   0 1101    1    5    1    1    4    1   21    0]\n",
      " [  15   14  874   10   24    4   25   15   46    5]\n",
      " [   4    5   22  839    0   74    2   18   37    9]\n",
      " [   1    5    4    0  914    2   13    1    9   33]\n",
      " [  21    3   11   36   20  746   17    7   26    5]\n",
      " [  19    3   13    0   18   18  880    0    7    0]\n",
      " [   5   22   26    0    9    2    0  924    6   34]\n",
      " [   8    9   10   17   19   35   14    9  828   25]\n",
      " [  10    6    5    5   69   16    0   27   12  859]]\n",
      "Some images with wrong predictions\n"
     ]
    },
    {
     "data": {
      "image/png": "[encoded data removed]",
      "text/plain": [
       "<Figure size 720x720 with 20 Axes>"
      ]
     },
     "metadata": {
      "needs_background": "light"
     },
     "output_type": "display_data"
    }
   ],
   "source": [
    "network = MLP([100, 200, 100, 10], 28*28)\n",
    "\n",
    "train_log = []\n",
    "val_log = []\n",
    "\n",
    "#Αυτά πρέπει να τρέχουν αφού έχετε φτιάξει σωστά τον κώδικα της MLP\n",
    "for epoch in range(100):\n",
    "    network.fit(x_train,y_train)\n",
    "    \n",
    "    train_log.append(np.mean(network.predict(x_train)==y_train))\n",
    "    val_log.append(np.mean(network.predict(x_test)==y_test))\n",
    "    \n",
    "    clear_output()\n",
    "    print(\"Epoch\",epoch)\n",
    "    print(\"Train accuracy:\",train_log[-1])\n",
    "    print(\"Val accuracy:\",val_log[-1])\n",
    "    plt.plot(train_log,label='train accuracy')\n",
    "    plt.plot(val_log,label='val accuracy')\n",
    "    plt.legend(loc='best')\n",
    "    plt.grid()\n",
    "    plt.show()\n",
    "\n",
    "y_pred = network.predict(x_test)\n",
    "\n",
    "eval = Evaluate(y_test, y_pred, x_test)\n",
    "eval.get_evaluation_report()"
   ]
  },
  {
   "cell_type": "markdown",
   "metadata": {},
   "source": [
    "Παρατηρούμε ότι το μοντέλο μας αύξησε το accuracy του σε 0.9. Η αύξηση αυτή όμως όπως παρατηρούμε δε συνέβει ομαλά ενώ το accuracy έπαψε να αποτελεί και γνωσίως αύξουσα συνάρτηση στο χρόνο. Οπότε, για το συγκεκριμένο μοντέλο παρατηρούμε ότι ο καλύτερος δυνατός αριθμός εποχών στον οποίο μπορούμε να το εκπαιδεύσουμε είναι γύρω στις 45 με 50 εποχές, όπου επιτυγχάνει μια αρκετά καλή τιμή val accuracy ~0.85. Από εκεί και μετά παρατηρούμε απότομες μεταβολές στο accuracy άρα και στη συνάρτηση σφάλματος του μοντέλου μας, η οποία μετά από το διάστημα αυτό θα εμφανίζει και αρκετές αυξήσεις, αντί να ελαχιστοποιείται όσο το δυνατόν περισσότερο. "
   ]
  },
  {
   "cell_type": "markdown",
   "metadata": {},
   "source": [
    "Η αστάθεια αυτή του μοντέλου μας πιθανώς να οφείλεται στον υψηλό ρυθμό εκμάθησης (learning rate = 0.1) με τον οποίο επιλέξαμε να το εκπαιδεύσουμε.Γενικά, ένας σχετικά υψηλό learning rate έχει ως αποτέλεσμα οι ενημερώσεις των βαρών να είναι αρκετά μεγάλες, οπότε και οι αποκλίσεις μεταξύ τους. Έτσι στη διάρκεια των εποχών εκπαίδευσης η απδοσή του πιθανόν να ταλαντευτεί λόγω των αποκλίσεων αυτών. Προκειμένου να αντιμετωπίσουμε το πρόβλημα αυτό και να σταθεροποιήσουμε την απόδοση του μοντέλου μας, τροποποιούμε λίγοτην κλάση MLP (όπως φαίνεται στο αντίστοιχο shell) έτσι ώστε να μπορούμε να επιλέγουμε κάθε φορά το ρυθμό εκμάθησης με τον οποίο θέλουμε να εκπαιδεύσουμε το μοντέλο μας. "
   ]
  },
  {
   "cell_type": "markdown",
   "metadata": {},
   "source": [
    "Παρακάτω επιλέγουμε να εκπαιδεύσουμε το μοντέλο μας με <b> learning rate = 0.05</b>, ενώ καθώς μειώνουμε το ρυθμό εμάθησης επιλέγουμε παράλληλα να αυξήσουμε και τις εποχές σε 200 για καλύτερα αποτελέσματα. "
   ]
  },
  {
   "cell_type": "code",
   "execution_count": 59,
   "metadata": {},
   "outputs": [
    {
     "name": "stdout",
     "output_type": "stream",
     "text": [
      "Epoch 199\n",
      "Train accuracy: 0.89105\n",
      "Val accuracy: 0.8911\n"
     ]
    },
    {
     "data": {
      "image/png": "[encoded data removed]",
      "text/plain": [
       "<Figure size 432x288 with 1 Axes>"
      ]
     },
     "metadata": {
      "needs_background": "light"
     },
     "output_type": "display_data"
    },
    {
     "name": "stdout",
     "output_type": "stream",
     "text": [
      "precision : 0.8893655449834151\n",
      "recall : 0.8894006281166937\n",
      "f1 : 0.8891467125136415\n",
      "accuracy : 0.8911\n",
      "Confusion matrix: \n",
      "[[ 953    0    6    0    0   10    6    1    4    0]\n",
      " [   0 1096    2    9    1    0    4    1   22    0]\n",
      " [  11   17  878   18   18    3   25   23   33    6]\n",
      " [   4    1   29  889    1   42    2   19   15    8]\n",
      " [   3    4    4    1  884    0   23    1    7   55]\n",
      " [  16    4    9   52   11  707   20   14   48   11]\n",
      " [  16    3    8    0   16   19  893    0    3    0]\n",
      " [   4   19   29    4   10    0    0  920    4   38]\n",
      " [   6    5    9   35   13   37   17   13  818   21]\n",
      " [   8    7   11   10   41   12    1   37    9  873]]\n",
      "Some images with wrong predictions\n"
     ]
    },
    {
     "data": {
      "image/png": "[encoded data removed]",
      "text/plain": [
       "<Figure size 720x720 with 20 Axes>"
      ]
     },
     "metadata": {
      "needs_background": "light"
     },
     "output_type": "display_data"
    }
   ],
   "source": [
    "network = MLP([100, 200, 100, 10], 28*28, learning_rate = 0.05)\n",
    "\n",
    "train_log = []\n",
    "val_log = []\n",
    "\n",
    "#Αυτά πρέπει να τρέχουν αφού έχετε φτιάξει σωστά τον κώδικα της MLP\n",
    "for epoch in range(200):\n",
    "    network.fit(x_train,y_train)\n",
    "    \n",
    "    train_log.append(np.mean(network.predict(x_train)==y_train))\n",
    "    val_log.append(np.mean(network.predict(x_test)==y_test))\n",
    "    \n",
    "    clear_output()\n",
    "    print(\"Epoch\",epoch)\n",
    "    print(\"Train accuracy:\",train_log[-1])\n",
    "    print(\"Val accuracy:\",val_log[-1])\n",
    "    plt.plot(train_log,label='train accuracy')\n",
    "    plt.plot(val_log,label='val accuracy')\n",
    "    plt.legend(loc='best')\n",
    "    plt.grid()\n",
    "    plt.show()\n",
    "\n",
    "y_pred = network.predict(x_test)\n",
    "\n",
    "eval = Evaluate(y_test, y_pred, x_test)\n",
    "eval.get_evaluation_report()"
   ]
  },
  {
   "cell_type": "markdown",
   "metadata": {},
   "source": [
    "Παρατηρούμε λοιπόν ότι μειώνοντας το ρυθμό εκμάθησης τόσο το train όσο και το val accuracy ομαλοποιήθηκαν, ενώ καταφέραμε να αυξήσουμε και το accuracy σε 0.89 έχοντας παράλληλα ένα πολύ πιο σταθερό μοντέλο. Παράλληλα, παρατηρούμε ότι προς το τέλος της εκπαίδευσης το accuracy αρχίζει να σταθεροποιείται οπότε και βλέπουμε πως μάλλον έχουμε επιτύχει μια ικανοποιητική εκπαίδευση του μοντέλου μας.  "
   ]
  },
  {
   "cell_type": "markdown",
   "metadata": {},
   "source": [
    "Γενικά, ο ρυθμός εκμάθησης εκφράζει την ταχύτητα με την οποία ένα σύστημα μαθαίνει. Οπότε, ένας υψηλός ρυθμός εκμάθησης βοηθάει στη γρήγορη και με μικρότερο υπολογιστικό κόστος εκπαίδευση του εκάστοτε μοντέλου, αλλά ωστόσο όπως είδαμε συνεπάγεται πολλές φορές και αστάθεια του μοντέλου μας λόγω αποκλίσεων στις τιμές των βαρών του και άρα και ταλαντώσεων της απόδοσής του κατά τη διάρκεια της εκπαιδευσής του. Βέβαια, και ένας πολύ μικρός ρυθμός εκμάθησης δε είναι απαραίτητα προτιμητέος. Αρχικά, ένας μικρότερος ρυθμός εκμάθησης απαιτεί πολύ μεγαλύτερο αριθμό εποχών εκπαίδευσης και άρα και πολύ περισσότερο χρόνο εκπαίδευσης. Εκτός όμως από αυτό ένας πολύ μικρός αριθμός εκμάθησης εγκυμονεί και μεγαλύτερο κίνδυνο στο να \"κολλήσει\" σε κάποιο τοπικό ελάχιστο της συνάρτησης σφάλματος οπότε και να μην προσεγγίσει ποτέ τη βέλτιστη λύση. Οπότε, για κάθε μοντέλο και για κάθε αρχιτεκτονική θα πρέπει κάθε φορά να επιλέγεται κατάλληλη <b>τιμή ρυθμού εκμάθησης</b> με σκοπό την ελαχιστοποίησει των προβλημάτων αυτών.  "
   ]
  },
  {
   "cell_type": "markdown",
   "metadata": {},
   "source": [
    "Όσον αφορά τον <b>αριθμό των εποχών</b> που επιλέγουμε κάθε φορά για την εκπαίδευση του μοντέλου μας και εκεί θα πρέπει να δίνεται ιδιαίτερη προσοχή, καθώς μεγάλος αριθμός εποχών δεν εξασφαλίζει απαραίτητα και ένα πολύ καλά εκπαιδευμένο μοντέλο με πολύ υψηλό accuracy. Η υπερεκπαίδευση του μοντέλου μας πάνω σε ένα συγκεκριμένο train set μπορεί να επιφέρει αντίθετα αποτελέσματα από αυτά που επιθυμούμε, το λεγόμενο overfiting, κατά το οποίο το μοντέλο μας υπερπροσαρμόζεται στα δεδομένα εκπαίδευσης με αποτέλεσμα μετά να αδυναμεί να γενικεύσει τα αποτελέσματά του σε άλλα dataset. Σε ένα τέτοιο φαινόμενο το μοντέλο μας μετά την πάροδο κάποιων εποχών θα παρουσίαζε αύξηση του train accuracy με παράλληλη όμως μείωση του val accuracy. Στο παραπάνω μοντέλο που δημιουργήσαμε εμείς δεν παρατηρούμε κάποιο τέτοιο φαινόμενο οπότε και δεν έχουμε υπερεκπαιδεύσει το μοντέλο μας πάνω στο δοθέν dataset (με την επιφύλαξη ότι το test set είναι αρκετά μικρό και ίσως και αρκετά όμοιο με το train set)."
   ]
  },
  {
   "cell_type": "markdown",
   "metadata": {},
   "source": [
    "Τέλος, θα δοκιμάσουμε και μια διαφορετική αρχιτεκτονική με τον ίδιο αριθμό επιπέδων αλλά αρκετά μεγαλύτερα σε μέγεθος. Θα εκπαιδεύσουμε λοιπόν ένα μοντέλο με 4 επίπεδα καθένα από τα οποία θα έχει μέγεθος 1000, 500, 200 και 10 αντίστοιχα."
   ]
  },
  {
   "cell_type": "code",
   "execution_count": 63,
   "metadata": {},
   "outputs": [
    {
     "name": "stdout",
     "output_type": "stream",
     "text": [
      "Epoch 19\n",
      "Train accuracy: 0.8238\n",
      "Val accuracy: 0.8327\n"
     ]
    },
    {
     "data": {
      "image/png": "[encoded data removed]",
      "text/plain": [
       "<Figure size 432x288 with 1 Axes>"
      ]
     },
     "metadata": {
      "needs_background": "light"
     },
     "output_type": "display_data"
    },
    {
     "name": "stdout",
     "output_type": "stream",
     "text": [
      "precision : 0.8343075309677349\n",
      "recall : 0.8281840668592588\n",
      "f1 : 0.8271668829391039\n",
      "accuracy : 0.8327\n",
      "Confusion matrix: \n",
      "[[ 937    0    7    3    1    7   17    1    7    0]\n",
      " [   0 1109    2    6    0    0    3    2   13    0]\n",
      " [  21   41  842   37   20    0   18   17   35    1]\n",
      " [   7   11   37  852    0   27    6   23   37   10]\n",
      " [   5    9    3    1  778    1   23    2   13  147]\n",
      " [  28   19   34  122   30  506   31   27   78   17]\n",
      " [  26    8   25    3   13   11  862    1    9    0]\n",
      " [   5   52   21    2   14    0    3  880   11   40]\n",
      " [  14   26   12   80   15   18   17   12  751   29]\n",
      " [  16   15    3   10  100   10    5   25   15  810]]\n",
      "Some images with wrong predictions\n"
     ]
    },
    {
     "data": {
      "image/png": "[encoded data removed]",
      "text/plain": [
       "<Figure size 720x720 with 20 Axes>"
      ]
     },
     "metadata": {
      "needs_background": "light"
     },
     "output_type": "display_data"
    }
   ],
   "source": [
    "network = MLP([1000, 500, 200, 10], 28*28, learning_rate = 0.1)\n",
    "\n",
    "train_log = []\n",
    "val_log = []\n",
    "\n",
    "#Αυτά πρέπει να τρέχουν αφού έχετε φτιάξει σωστά τον κώδικα της MLP\n",
    "for epoch in range(20):\n",
    "    network.fit(x_train,y_train)\n",
    "    \n",
    "    train_log.append(np.mean(network.predict(x_train)==y_train))\n",
    "    val_log.append(np.mean(network.predict(x_test)==y_test))\n",
    "    \n",
    "    clear_output()\n",
    "    print(\"Epoch\",epoch)\n",
    "    print(\"Train accuracy:\",train_log[-1])\n",
    "    print(\"Val accuracy:\",val_log[-1])\n",
    "    plt.plot(train_log,label='train accuracy')\n",
    "    plt.plot(val_log,label='val accuracy')\n",
    "    plt.legend(loc='best')\n",
    "    plt.grid()\n",
    "    plt.show()\n",
    "\n",
    "y_pred = network.predict(x_test)\n",
    "\n",
    "eval = Evaluate(y_test, y_pred, x_test)\n",
    "eval.get_evaluation_report()"
   ]
  },
  {
   "cell_type": "markdown",
   "metadata": {},
   "source": [
    "Παρατηρούμε ότι η εκπαίδευση του μοντέλου αυτού καθυστερεί αρκετά παρότι επιλέχθηκαν μόνο 20 εποχές, γεγονός βέβαια που δικαιολογεί η μεγάλη πολυπλοκότητά του. Παράλληλα βέβαια παρατηρούμε ότι ακόμα και με το μικρό αυτό αριθμό εποχών κατάφερε να επιτύχει ένα ικανοποιητικό accuracy με τιμή της τάξης του 0.8 (υπάρχει περίπτωση βέβαια το μοντέλο αυτό όπως και πριν λόγω του υψηλού learning rate να μην είναι απόλυτα ευσταθές). Γενικά, η επιλογή πολύπλοκων αρχιτεκτονικών δε συνεπάγεται πάντα καλύτερα αποτελέσματα, τόσο λόγω των χρονικών απιατήσεων που αυτή προσδίδει όσο και λόγω προβλημάτων overfiting που αυτή μπορεί να εισάγει σε περιπτώσεις που χρησιμοποιούμε πολύ περισσότερες υπερπαραμέτρους από αυτές που πραγματικά χρειάζονται για να περιγράψουμε ένα πιο απλό πρόβλημα.     "
   ]
  },
  {
   "cell_type": "markdown",
   "metadata": {
    "id": "ygud3NX3b-wN"
   },
   "source": [
    "## Έτοιμο Multi-Layer Perceptron \n",
    "\n",
    "Όπως και με τις τεχνικές των παραπάνω ερωτημάτων έτσι και εδώ υπάρχει έτοιμη η παραπάνω κλάση σε διάφορες βιβλιοθήκες. Έτσι στο δεύτερο μέρος του ερωτήματος αυτού θα κατασκευάσετε το ίδιο MLP χρησιμοποιώντας όμως την έτοιμη κλάση [MLPClassifier](https://scikit-learn.org/stable/modules/generated/sklearn.neural_network.MLPClassifier.html)  της βιβλιοθήκης scikit-learn. Παρακάτω παρουσιάζεται ένα παράδειγμα χρήσης της κλάσης αυτής. "
   ]
  },
  {
   "cell_type": "code",
   "execution_count": 66,
   "metadata": {},
   "outputs": [],
   "source": [
    "from sklearn.neural_network import MLPClassifier"
   ]
  },
  {
   "cell_type": "code",
   "execution_count": 67,
   "metadata": {
    "colab": {
     "base_uri": "https://localhost:8080/",
     "height": 942
    },
    "id": "hltXBE2Vbojo",
    "outputId": "7362dd52-9d50-45bd-e396-2b7c85abcffe"
   },
   "outputs": [
    {
     "name": "stderr",
     "output_type": "stream",
     "text": [
      "C:\\Users\\user\\anaconda3\\lib\\site-packages\\sklearn\\neural_network\\_multilayer_perceptron.py:571: ConvergenceWarning: Stochastic Optimizer: Maximum iterations (25) reached and the optimization hasn't converged yet.\n",
      "  % self.max_iter, ConvergenceWarning)\n"
     ]
    },
    {
     "name": "stdout",
     "output_type": "stream",
     "text": [
      "precision : 0.9664531603115327\n",
      "recall : 0.9662404620750692\n",
      "f1 : 0.9662965838611131\n",
      "accuracy : 0.9666\n",
      "Confusion matrix: \n",
      "[[ 961    0    2    2    2    2    7    1    1    2]\n",
      " [   0 1122    5    0    0    0    3    2    3    0]\n",
      " [   1    1  987   17    2    0    4   13    7    0]\n",
      " [   1    1    6  970    2    9    0    6   10    5]\n",
      " [   0    0    4    1  947    1    4    5    1   19]\n",
      " [   4    0    1    4    1  860    7    4    7    4]\n",
      " [   6    3    3    1    6   10  926    2    1    0]\n",
      " [   0    1    6    0    0    0    1 1003    1   16]\n",
      " [   3    2    6   13    4    8    3   10  914   11]\n",
      " [   2    4    0    7    9    4    0    5    2  976]]\n",
      "Some images with wrong predictions\n",
      "Wall time: 38 s\n"
     ]
    },
    {
     "data": {
      "image/png": "[encoded data removed]",
      "text/plain": [
       "<Figure size 720x720 with 20 Axes>"
      ]
     },
     "metadata": {
      "needs_background": "light"
     },
     "output_type": "display_data"
    }
   ],
   "source": [
    "%%time\n",
    "\n",
    "epochs = 25\n",
    "mlp = MLPClassifier(hidden_layer_sizes=(100, 200, 100), max_iter = epochs)\n",
    "\n",
    "mlp.fit(x_train,y_train)\n",
    "\n",
    "y_pred = mlp.predict(x_test)\n",
    "eval = Evaluate(y_test, y_pred, x_test)\n",
    "eval.get_evaluation_report()"
   ]
  },
  {
   "cell_type": "markdown",
   "metadata": {
    "id": "DOQYML9wcDBk"
   },
   "source": [
    "## Σύγκριση υλοποιήσεων "
   ]
  },
  {
   "cell_type": "markdown",
   "metadata": {},
   "source": [
    "Η έτοιμη υλοποίηση πετυχαίνει ένα πολύ καλό accuracy 0.97 με μόλις 25 εποχές εκπαίδευσης, συγκριτικά με τις δικές μας υλοποιήσεις οι οποίες προκειμένου να πετύχουν υψηλά accuracy απαιτούν αρκετές παραπάνω εποχές εκπαίδευσης, οπότε και χρόνο εκπαίδευσης. Η διαφορά των αποτελεσμάτων προκύπτει από το ότι στην έτοιμη κλάση έχουν γίνει αρκετές βελτιστοποιήσεις στην λειτουργία, στον τρόπο εκπαίδευσης κ.α. με αποτέλεσμα να προκύπτουν καλύτερα αποτέλεσμα. Παρόλα αυτά στην δική μας κλάση έχουμε καλύτερο έλεγχο και έχουμε την δυνατότητα να σχεδιάσουμε πιο σύνθετες αρχιτεκτονικές καθώς να αλλάξουμε τις τιμές παραμέτρων που στην έτοιμη κλάση μπορεί να μην μας δίνεται η δυνατότητα. "
   ]
  },
  {
   "cell_type": "markdown",
   "metadata": {
    "id": "gfrx064gcCr8"
   },
   "source": [
    "# Αξιολόγηση- Συμπεράσματα "
   ]
  },
  {
   "cell_type": "markdown",
   "metadata": {},
   "source": [
    "Παρατηρούμε ότι στο συγκεκριμένο πρόβλημα με το συγκεκριμένο dataset οι βέλτιστες τεχνικές ταξινόμησης των εικόνων είναι ο ταξινομητής ΚΝΝ και το MLP με το MLP ίσως να προτιμάται λόγω του αρκετά μειωμένου χρόνου στον οποίο επιτυγχάνει την ταξινόμηση μιας εικόνας. Το MLP μπορεί να απαιτεί αρκετό χρόνο κατά τη διαδικασία εκπαίδευσής του, αλλά στη συνέχεια όταν πλέον θα χρησιμοποιηθεί για την ταξινόμηση των εικόνων ο χρόνος που απαιτεί προκειμένου να ταξινομήσει μια εικόνα είναι κατά πολύ μικρότερος από το χρόνο που απαιτεί ο ΚΝΝ, ιδίως για μεγάλα datasets. Το γεγονός οτι ο απλός ΚΝΝ διατρέχει κάθε φορά το σύνολο του dataet για να ταξινομήσει μια εικόνα κάνει την επιλογή αυτού στο πρόβλημα της ταξινόμησης αρκετά δύσκολη ιδίως για μεγάλα dataset όπου οι χρονικές απαιτήσεις του μπορούν να γίνουν απαγορευτικές. \n",
    "Βέβαια, έχουν προταθεί και χρησιμοποιούνται αρκετές βελτιστοποιήσεις αυτού που μειώνουν αρκετά την χρονική πολυπλοκότητά του. Όμοιες βελτιστοποιήσεις βέβαια υπάρχουν και για τα νευρωνικά δίκτυα, όπου το πλήθος των αρχιτεκτονικών που μπορείς να χρησιμοποιήσεις, οι τιμές των υπερπαραμέτρων πυο θα επιλέξεις, ο τρόπος με τον οποίο θα τα εκπαιδεύσεις, οι optimizers που τυχόν μπορείς να χρησιμοποιήσεις και πολλά ακόμα τα καθιστούν ισχυρά εργαλεία για μια πολύ καλή αντιμετώπιση πολύ ακριβή προσέγγιση πολλών σύγχρονων πολύπλοκων προβλημάτων.    "
   ]
  }
 ],
 "metadata": {
  "colab": {
   "collapsed_sections": [],
   "name": "Τρίτη Άσκηση ΤΝ",
   "provenance": []
  },
  "kernelspec": {
   "display_name": "Python 3",
   "language": "python",
   "name": "python3"
  },
  "language_info": {
   "codemirror_mode": {
    "name": "ipython",
    "version": 3
   },
   "file_extension": ".py",
   "mimetype": "text/x-python",
   "name": "python",
   "nbconvert_exporter": "python",
   "pygments_lexer": "ipython3",
   "version": "3.7.6"
  }
 },
 "nbformat": 4,
 "nbformat_minor": 1
}
